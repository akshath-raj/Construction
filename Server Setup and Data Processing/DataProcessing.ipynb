{
 "cells": [
  {
   "cell_type": "markdown",
   "id": "597e7d77-d8f7-4ace-bdc2-162403c46fd8",
   "metadata": {},
   "source": [
    "SETTING UP FLASK SERVER TO RECIEVE JSON DATA AND CONVERTING TO PROMETHEUS METRICS"
   ]
  },
  {
   "cell_type": "code",
   "execution_count": 1,
   "id": "1ef3ebb3-3c4b-4762-add8-42dbd8111435",
   "metadata": {},
   "outputs": [],
   "source": [
    "# Importing necessary libraries\n",
    "from flask import Flask, request, jsonify\n",
    "from flask_cors import CORS\n",
    "from prometheus_client import start_http_server, Gauge\n",
    "from prometheus_flask_exporter import PrometheusMetrics\n",
    "import json\n",
    "import time\n",
    "from threading import Thread\n",
    "import requests"
   ]
  },
  {
   "cell_type": "code",
   "execution_count": 2,
   "id": "2fa6fdcb-7f61-43c2-87fb-e1157bec6368",
   "metadata": {},
   "outputs": [],
   "source": [
    "# Defining Flask server\n",
    "app = Flask(__name__)\n",
    "CORS(app)\n",
    "\n",
    "# Initialize Prometheus metrics\n",
    "metrics = PrometheusMetrics(app)"
   ]
  },
  {
   "cell_type": "code",
   "execution_count": 3,
   "id": "eaf4a3e3-3fe6-45f4-9802-87a75d466c2a",
   "metadata": {},
   "outputs": [],
   "source": [
    "# Define a Prometheus Gauge metric\n",
    "acceleration_metric = Gauge('total_acceleration', 'Total Acceleration Metric', ['axis'])\n",
    "accelerometer_metric = Gauge('accelerometer', 'Accelerometer Metric', ['axis'])"
   ]
  },
  {
   "cell_type": "code",
   "execution_count": 4,
   "id": "e86b19d4-cc62-451e-a1a9-b9ba67560a6d",
   "metadata": {},
   "outputs": [],
   "source": [
    "# Processing json data\n",
    "def process_acceleration_data(data):\n",
    "    for entry in data[\"payload\"]:\n",
    "        if entry[\"name\"] == \"totalacceleration\":\n",
    "            for axis, value in entry[\"values\"].items():\n",
    "                acceleration_metric.labels(axis=axis).set(value)"
   ]
  },
  {
   "cell_type": "code",
   "execution_count": 5,
   "id": "2dd09e81-4950-4f43-857e-248f455a4a25",
   "metadata": {},
   "outputs": [],
   "source": [
    "# Posting reqiest to the url\n",
    "def fetch_and_update_metrics():\n",
    "    while True:\n",
    "        try:\n",
    "            json_data = requests.post('http://192.168.190.213:6000/json_endpoint').json()\n",
    "\n",
    "        except Exception as e:\n",
    "            pass\n",
    "\n",
    "        time.sleep(2) # Adjusting the sleep interval "
   ]
  },
  {
   "cell_type": "code",
   "execution_count": 6,
   "id": "b068c2ac-4ab4-46be-bab8-cddae013c6dc",
   "metadata": {},
   "outputs": [],
   "source": [
    "# Recieving JSON data\n",
    "@app.route('/json_endpoint', methods=['POST'])\n",
    "def receive_json():\n",
    "    try:\n",
    "        data = request.get_json()\n",
    "\n",
    "        print(data) # Printing JSON data\n",
    "        \n",
    "        process_acceleration_data(data)    #Processing JSON data\n",
    "        process_accelerometer_data(data)\n",
    "            \n",
    "        a=random.randint(60,100)           # Heartbeat metric\n",
    "        heart_beat.labels(axis=\"heart_beat\").set(a)\n",
    "\n",
    "    except Exception as e:\n",
    "        return jsonify({'status': 'error', 'message': str(e)})"
   ]
  },
  {
   "cell_type": "code",
   "execution_count": 7,
   "id": "bfa46ec8-a887-4982-8713-32c58a1fafd1",
   "metadata": {},
   "outputs": [
    {
     "name": "stdout",
     "output_type": "stream",
     "text": [
      " * Serving Flask app '__main__'\n",
      " * Debug mode: off\n"
     ]
    },
    {
     "name": "stderr",
     "output_type": "stream",
     "text": [
      "WARNING: This is a development server. Do not use it in a production deployment. Use a production WSGI server instead.\n",
      " * Running on http://192.168.190.213:6000\n",
      "Press CTRL+C to quit\n",
      "192.168.190.213 - - [04/Mar/2024 18:59:13] \"POST /json_endpoint HTTP/1.1\" 200 -\n",
      "192.168.190.213 - - [04/Mar/2024 18:59:15] \"POST /json_endpoint HTTP/1.1\" 200 -\n",
      "192.168.190.135 - - [04/Mar/2024 18:59:15] \"POST /json_endpoint HTTP/1.1\" 200 -\n"
     ]
    },
    {
     "name": "stdout",
     "output_type": "stream",
     "text": [
      "{'messageId': 4, 'sessionId': 'e788f04f-2183-4c07-a7f1-df6e95fa321d', 'deviceId': '2274ee0c-3545-4831-b434-15dbe46693c4', 'payload': [{'name': 'accelerometer', 'values': {'z': 0.47371530532836914, 'y': 0.2483515739440918, 'x': -0.31769800186157227}, 'accuracy': 3, 'time': 1709558953757436400}, {'name': 'accelerometeruncalibrated', 'values': {'z': 7.768298625946045, 'y': 5.828916072845459, 'x': 3.0993034839630127}, 'accuracy': 3, 'time': 1709558953803825200}, {'name': 'accelerometer', 'values': {'z': 0.36726903915405273, 'y': -0.11674022674560547, 'x': 0.15949082374572754}, 'accuracy': 3, 'time': 1709558953807436300}, {'name': 'totalacceleration', 'values': {'z': 6.523432731628418, 'y': 6.760322093963623, 'x': 2.730210542678833}, 'accuracy': 3, 'time': 1709558953844102000}, {'name': 'accelerometeruncalibrated', 'values': {'z': 5.084748268127441, 'y': 6.2913289070129395, 'x': 2.6153552532196045}, 'accuracy': 3, 'time': 1709558953884575000}, {'name': 'accelerometer', 'values': {'z': 0.20763921737670898, 'y': -0.02336406707763672, 'x': -0.9716019630432129}, 'accuracy': 3, 'time': 1709558953857436400}, {'name': 'totalacceleration', 'values': {'z': 5.865406513214111, 'y': 6.401398658752441, 'x': 3.9589250087738037}, 'accuracy': 3, 'time': 1709558953924656000}, {'name': 'accelerometer', 'values': {'z': -1.0983166694641113, 'y': 0.27337217330932617, 'x': -0.4408273696899414}, 'accuracy': 3, 'time': 1709558953907436300}, {'name': 'accelerometeruncalibrated', 'values': {'z': 6.095117568969727, 'y': 5.737988471984863, 'x': 3.8386857509613037}, 'accuracy': 3, 'time': 1709558953964933000}, {'name': 'accelerometer', 'values': {'z': -1.4875459671020508, 'y': 0.46666479110717773, 'x': -0.03347897529602051}, 'accuracy': 3, 'time': 1709558953957436400}, {'name': 'totalacceleration', 'values': {'z': 9.145368576049805, 'y': 4.560121536254883, 'x': 4.289134502410889}, 'accuracy': 3, 'time': 1709558954005406000}, {'name': 'accelerometer', 'values': {'z': -1.0777325630187988, 'y': 0.3040122985839844, 'x': 0.028184175491333008}, 'accuracy': 3, 'time': 1709558954007436300}, {'name': 'accelerometeruncalibrated', 'values': {'z': 13.706088066101074, 'y': 3.8949170112609863, 'x': 4.226921081542969}, 'accuracy': 3, 'time': 1709558954045486800}, {'name': 'totalacceleration', 'values': {'z': 15.705291748046875, 'y': 3.8877387046813965, 'x': 1.607378602027893}, 'accuracy': 3, 'time': 1709558954085763600}, {'name': 'accelerometer', 'values': {'z': 3.123316764831543, 'y': -0.40749311447143555, 'x': 0.7901782989501953}, 'accuracy': 3, 'time': 1709558954057436400}, {'name': 'accelerometeruncalibrated', 'values': {'z': 15.750755310058594, 'y': 5.190032482147217, 'x': 0.41515472531318665}, 'accuracy': 3, 'time': 1709558954126197200}, {'name': 'accelerometer', 'values': {'z': 7.2429399490356445, 'y': -1.6067442893981934, 'x': -0.6836061477661133}, 'accuracy': 3, 'time': 1709558954107436300}, {'name': 'totalacceleration', 'values': {'z': 12.738789558410645, 'y': 4.028914928436279, 'x': 0.3696911036968231}, 'accuracy': 3, 'time': 1709558954166317600}, {'name': 'accelerometer', 'values': {'z': 8.613791465759277, 'y': -1.5073604583740234, 'x': -2.3253536224365234}, 'accuracy': 3, 'time': 1709558954157436400}, {'name': 'accelerometeruncalibrated', 'values': {'z': 8.297710418701172, 'y': 3.528217077255249, 'x': 0.9780662655830383}, 'accuracy': 3, 'time': 1709558954206790100}, {'name': 'accelerometer', 'values': {'z': 6.816513538360596, 'y': -4.023859024047852, 'x': -1.9186248779296875}, 'accuracy': 3, 'time': 1709558954207436300}, {'name': 'totalacceleration', 'values': {'z': 1.7976080179214478, 'y': 3.267399311065674, 'x': 4.566701889038086}, 'accuracy': 3, 'time': 1709558954246871300}, {'name': 'accelerometeruncalibrated', 'values': {'z': 1.057627558708191, 'y': 2.9276185035705566, 'x': 7.346563816070557}, 'accuracy': 3, 'time': 1709558954287148000}, {'name': 'accelerometer', 'values': {'z': 2.4103739261627197, 'y': -5.933750629425049, 'x': -1.552656888961792}, 'accuracy': 3, 'time': 1709558954257436400}, {'name': 'totalacceleration', 'values': {'z': 0.5210371017456055, 'y': 2.999403238296509, 'x': 7.327421188354492}, 'accuracy': 3, 'time': 1709558954327620900}, {'name': 'accelerometer', 'values': {'z': -1.4740054607391357, 'y': -5.363717079162598, 'x': 3.9454431533813477}, 'accuracy': 3, 'time': 1709558954307436300}, {'name': 'accelerometeruncalibrated', 'values': {'z': 1.9507486820220947, 'y': 1.7856439352035522, 'x': 9.616155624389648}, 'accuracy': 3, 'time': 1709558954367701800}, {'name': 'accelerometer', 'values': {'z': -0.9874683618545532, 'y': -5.5538811683654785, 'x': 2.2146592140197754}, 'accuracy': 3, 'time': 1709558954357436400}, {'name': 'totalacceleration', 'values': {'z': 3.1453654766082764, 'y': 0.5928218364715576, 'x': 12.041281700134277}, 'accuracy': 3, 'time': 1709558954408174600}, {'name': 'accelerometer', 'values': {'z': 0.2913869619369507, 'y': -6.103243350982666, 'x': 3.922603130340576}, 'accuracy': 3, 'time': 1709558954407436300}, {'name': 'accelerometeruncalibrated', 'values': {'z': 3.3176486492156982, 'y': -0.13459627330303192, 'x': 14.282159805297852}, 'accuracy': 3, 'time': 1709558954448255700}, {'name': 'totalacceleration', 'values': {'z': 1.2370892763137817, 'y': 0.1908276081085205, 'x': 14.797215461730957}, 'accuracy': 3, 'time': 1709558954488532200}, {'name': 'accelerometer', 'values': {'z': 1.5721609592437744, 'y': -7.213893413543701, 'x': 6.611402988433838}, 'accuracy': 3, 'time': 1709558954457436400}, {'name': 'accelerometeruncalibrated', 'values': {'z': -0.27816563844680786, 'y': 0.08075776696205139, 'x': 12.072388648986816}, 'accuracy': 3, 'time': 1709558954529005300}, {'name': 'accelerometer', 'values': {'z': 0.5221341848373413, 'y': -7.867557048797607, 'x': 9.118513107299805}, 'accuracy': 3, 'time': 1709558954507436300}, {'name': 'totalacceleration', 'values': {'z': -0.589830756187439, 'y': -0.9056833982467651, 'x': 5.813961029052734}, 'accuracy': 3, 'time': 1709558954569086200}, {'name': 'accelerometer', 'values': {'z': -1.9635734558105469, 'y': -8.58978271484375, 'x': 8.768861770629883}, 'accuracy': 3, 'time': 1709558954557436400}, {'name': 'accelerometeruncalibrated', 'values': {'z': 8.905488014221191, 'y': -3.7118661403656006, 'x': -4.191029071807861}, 'accuracy': 3, 'time': 1709558954609363000}, {'name': 'accelerometer', 'values': {'z': -4.729186058044434, 'y': -9.378294944763184, 'x': 3.641051769256592}, 'accuracy': 3, 'time': 1709558954607436300}, {'name': 'totalacceleration', 'values': {'z': 29.754749298095703, 'y': -2.073979139328003, 'x': -9.247661590576172}, 'accuracy': 3, 'time': 1709558954649640000}, {'name': 'accelerometeruncalibrated', 'values': {'z': 40.765323638916016, 'y': 2.92283296585083, 'x': -9.32183837890625}, 'accuracy': 3, 'time': 1709558954689916700}, {'name': 'accelerometer', 'values': {'z': 6.347754001617432, 'y': -9.151471138000488, 'x': -7.586782455444336}, 'accuracy': 3, 'time': 1709558954657436400}, {'name': 'totalacceleration', 'values': {'z': 23.568105697631836, 'y': 2.937189817428589, 'x': -4.143172264099121}, 'accuracy': 3, 'time': 1709558954730389200}]}\n"
     ]
    },
    {
     "name": "stderr",
     "output_type": "stream",
     "text": [
      "192.168.190.135 - - [04/Mar/2024 18:59:16] \"POST /json_endpoint HTTP/1.1\" 200 -\n"
     ]
    },
    {
     "name": "stdout",
     "output_type": "stream",
     "text": [
      "{'messageId': 5, 'sessionId': 'e788f04f-2183-4c07-a7f1-df6e95fa321d', 'deviceId': '2274ee0c-3545-4831-b434-15dbe46693c4', 'payload': [{'name': 'accelerometer', 'values': {'z': 29.507556915283203, 'y': -3.3802781105041504, 'x': -10.999567031860352}, 'accuracy': 3, 'time': 1709558954707436300}, {'name': 'accelerometeruncalibrated', 'values': {'z': 12.640684127807617, 'y': 3.3104701042175293, 'x': -2.472383975982666}, 'accuracy': 3, 'time': 1709558954770470700}, {'name': 'accelerometer', 'values': {'z': 20.381996154785156, 'y': -2.818694591522217, 'x': -7.424241542816162}, 'accuracy': 3, 'time': 1709558954757436400}, {'name': 'totalacceleration', 'values': {'z': 5.154139995574951, 'y': 1.6151553392410278, 'x': -0.9421738982200623}, 'accuracy': 3, 'time': 1709558954810747400}, {'name': 'accelerometer', 'values': {'z': 6.827707290649414, 'y': -4.606217384338379, 'x': -4.616641044616699}, 'accuracy': 3, 'time': 1709558954807436300}, {'name': 'accelerometeruncalibrated', 'values': {'z': 1.7808582782745361, 'y': -1.0253244638442993, 'x': 3.297907829284668}, 'accuracy': 3, 'time': 1709558954851220200}, {'name': 'totalacceleration', 'values': {'z': 1.7641085386276245, 'y': -2.152942180633545, 'x': 7.643273830413818}, 'accuracy': 3, 'time': 1709558954891301000}, {'name': 'accelerometer', 'values': {'z': 0.6004557609558105, 'y': -7.79958438873291, 'x': -3.235999584197998}, 'accuracy': 3, 'time': 1709558954857436400}, {'name': 'accelerometeruncalibrated', 'values': {'z': 1.545763373374939, 'y': -1.6815561056137085, 'x': 12.261421203613281}, 'accuracy': 3, 'time': 1709558954931774000}, {'name': 'accelerometer', 'values': {'z': -0.3421272039413452, 'y': -10.134130477905273, 'x': 0.5033445358276367}, 'accuracy': 3, 'time': 1709558954907436300}, {'name': 'totalacceleration', 'values': {'z': -0.45583271980285645, 'y': -0.7525427341461182, 'x': 16.67438507080078}, 'accuracy': 3, 'time': 1709558954971855000}, {'name': 'accelerometer', 'values': {'z': 0.47863590717315674, 'y': -9.465144157409668, 'x': 4.696572303771973}, 'accuracy': 3, 'time': 1709558954957436400}, {'name': 'accelerometeruncalibrated', 'values': {'z': -0.4145565330982208, 'y': -0.7357929348945618, 'x': 17.408981323242188}, 'accuracy': 3, 'time': 1709558955011936500}, {'name': 'accelerometer', 'values': {'z': -1.3915512561798096, 'y': -7.840119361877441, 'x': 9.570358276367188}, 'accuracy': 3, 'time': 1709558955007436300}, {'name': 'totalacceleration', 'values': {'z': 1.0217353105545044, 'y': -1.1784651279449463, 'x': 14.291731834411621}, 'accuracy': 3, 'time': 1709558955052408300}, {'name': 'accelerometeruncalibrated', 'values': {'z': 0.8015955686569214, 'y': -1.7461622953414917, 'x': 11.148160934448242}, 'accuracy': 3, 'time': 1709558955092489700}, {'name': 'accelerometer', 'values': {'z': -1.2505524158477783, 'y': -8.255338668823242, 'x': 10.396377563476562}, 'accuracy': 3, 'time': 1709558955057436400}, {'name': 'accelerometer', 'values': {'z': -0.9259620904922485, 'y': -9.703752517700195, 'x': 8.077987670898438}, 'accuracy': 3, 'time': 1709558955107436300}, {'name': 'totalacceleration', 'values': {'z': 1.740180253982544, 'y': -1.1569297313690186, 'x': 5.033900737762451}, 'accuracy': 3, 'time': 1709558955132961800}, {'name': 'accelerometeruncalibrated', 'values': {'z': 8.596813201904297, 'y': -0.9535398483276367, 'x': -5.867201328277588}, 'accuracy': 3, 'time': 1709558955173043500}, {'name': 'accelerometer', 'values': {'z': -2.3721702098846436, 'y': -9.977876663208008, 'x': 4.364616394042969}, 'accuracy': 3, 'time': 1709558955157436400}, {'name': 'totalacceleration', 'values': {'z': 38.294734954833984, 'y': 2.101496458053589, 'x': -12.798609733581543}, 'accuracy': 3, 'time': 1709558955213320200}, {'name': 'accelerometer', 'values': {'z': 1.439610481262207, 'y': -7.635985374450684, 'x': -6.620316982269287}, 'accuracy': 3, 'time': 1709558955207436300}, {'name': 'accelerometeruncalibrated', 'values': {'z': 38.993438720703125, 'y': 7.9381890296936035, 'x': -12.104093551635742}, 'accuracy': 3, 'time': 1709558955253792500}, {'name': 'accelerometer', 'values': {'z': 32.05023193359375, 'y': -2.0584654808044434, 'x': -14.649421691894531}, 'accuracy': 3, 'time': 1709558955257436400}, {'name': 'totalacceleration', 'values': {'z': 14.017154693603516, 'y': 5.759523868560791, 'x': -4.392624378204346}, 'accuracy': 3, 'time': 1709558955293874000}, {'name': 'accelerometeruncalibrated', 'values': {'z': 4.332803726196289, 'y': 3.528217077255249, 'x': -2.1296122074127197}, 'accuracy': 3, 'time': 1709558955334150700}, {'name': 'accelerometer', 'values': {'z': 20.76310157775879, 'y': -0.6132082939147949, 'x': -9.832865715026855}, 'accuracy': 3, 'time': 1709558955307436300}, {'name': 'totalacceleration', 'values': {'z': 0.600000262260437, 'y': -0.5060819983482361, 'x': 2.754138946533203}, 'accuracy': 3, 'time': 1709558955374623200}, {'name': 'accelerometer', 'values': {'z': 2.783090114593506, 'y': -4.035955429077148, 'x': -5.839051246643066}, 'accuracy': 3, 'time': 1709558955357436400}, {'name': 'accelerometeruncalibrated', 'values': {'z': -0.6735795736312866, 'y': -3.762115478515625, 'x': 8.754141807556152}, 'accuracy': 3, 'time': 1709558955414704600}, {'name': 'accelerometer', 'values': {'z': -1.3141543865203857, 'y': -8.582361221313477, 'x': -2.3056728839874268}, 'accuracy': 3, 'time': 1709558955407436300}, {'name': 'totalacceleration', 'values': {'z': -0.17766708135604858, 'y': -4.281357765197754, 'x': 14.131412506103516}, 'accuracy': 3, 'time': 1709558955455177200}, {'name': 'accelerometer', 'values': {'z': -1.820772647857666, 'y': -11.53121566772461, 'x': 3.452848434448242}, 'accuracy': 3, 'time': 1709558955457436400}, {'name': 'accelerometeruncalibrated', 'values': {'z': -2.51425838470459, 'y': -2.9718856811523438, 'x': 19.935203552246094}, 'accuracy': 3, 'time': 1709558955495259000}, {'name': 'accelerometer', 'values': {'z': -2.2048275470733643, 'y': -10.686826705932617, 'x': 9.348023414611816}, 'accuracy': 3, 'time': 1709558955507436300}, {'name': 'totalacceleration', 'values': {'z': -0.9822536706924438, 'y': -2.392822742462158, 'x': 19.491933822631836}, 'accuracy': 3, 'time': 1709558955535535600}, {'name': 'accelerometeruncalibrated', 'values': {'z': 0.763310432434082, 'y': -1.5930216312408447, 'x': 12.759726524353027}, 'accuracy': 3, 'time': 1709558955576008200}, {'name': 'accelerometer', 'values': {'z': -3.4802474975585938, 'y': -9.927480697631836, 'x': 14.429925918579102}, 'accuracy': 3, 'time': 1709558955557436400}, {'name': 'totalacceleration', 'values': {'z': 0.6125625967979431, 'y': -0.129810631275177, 'x': 5.469394207000732}, 'accuracy': 3, 'time': 1709558955616089600}, {'name': 'accelerometer', 'values': {'z': -1.8097379207611084, 'y': -9.928518295288086, 'x': 9.05340576171875}, 'accuracy': 3, 'time': 1709558955607436300}, {'name': 'accelerometeruncalibrated', 'values': {'z': 5.26899528503418, 'y': -0.6807580590248108, 'x': -6.640681266784668}, 'accuracy': 3, 'time': 1709558955656562000}, {'name': 'accelerometer', 'values': {'z': -3.8127498626708984, 'y': -8.247232437133789, 'x': 1.5851104259490967}, 'accuracy': 3, 'time': 1709558955657436400}, {'name': 'totalacceleration', 'values': {'z': 36.26921081542969, 'y': 1.3280165195465088, 'x': -8.730812072753906}, 'accuracy': 3, 'time': 1709558955696643800}, {'name': 'accelerometer', 'values': {'z': 7.89622163772583, 'y': -7.018612384796143, 'x': -9.382841110229492}, 'accuracy': 3, 'time': 1709558955707436300}]}\n"
     ]
    },
    {
     "name": "stderr",
     "output_type": "stream",
     "text": [
      "192.168.190.213 - - [04/Mar/2024 18:59:17] \"POST /json_endpoint HTTP/1.1\" 200 -\n",
      "192.168.190.135 - - [04/Mar/2024 18:59:18] \"POST /json_endpoint HTTP/1.1\" 200 -\n"
     ]
    },
    {
     "name": "stdout",
     "output_type": "stream",
     "text": [
      "{'messageId': 6, 'sessionId': 'e788f04f-2183-4c07-a7f1-df6e95fa321d', 'deviceId': '2274ee0c-3545-4831-b434-15dbe46693c4', 'payload': [{'name': 'accelerometeruncalibrated', 'values': {'z': 35.85226058959961, 'y': 8.225926399230957, 'x': -14.402399063110352}, 'accuracy': 3, 'time': 1709558955736920600}, {'name': 'totalacceleration', 'values': {'z': 14.443675994873047, 'y': 5.38624382019043, 'x': -4.25084924697876}, 'accuracy': 3, 'time': 1709558955777393200}, {'name': 'accelerometer', 'values': {'z': 33.605255126953125, 'y': 0.03232717514038086, 'x': -13.94224739074707}, 'accuracy': 3, 'time': 1709558955757436400}, {'name': 'accelerometeruncalibrated', 'values': {'z': 5.498706340789795, 'y': 3.9451663494110107, 'x': -1.4979069232940674}, 'accuracy': 3, 'time': 1709558955817474600}, {'name': 'accelerometer', 'values': {'z': 12.442364692687988, 'y': -2.003570556640625, 'x': -8.4579439163208}, 'accuracy': 3, 'time': 1709558955807436300}, {'name': 'totalacceleration', 'values': {'z': 2.2163519859313965, 'y': 0.5952146053314209, 'x': 1.851446509361267}, 'accuracy': 3, 'time': 1709558955857947100}, {'name': 'accelerometer', 'values': {'z': 1.7698767185211182, 'y': -4.831842422485352, 'x': -4.815896987915039}, 'accuracy': 3, 'time': 1709558955857436400}, {'name': 'accelerometeruncalibrated', 'values': {'z': 2.668595552444458, 'y': -2.3228325843811035, 'x': 6.2500529289245605}, 'accuracy': 3, 'time': 1709558955898028800}, {'name': 'accelerometer', 'values': {'z': 0.11420345306396484, 'y': -8.296635627746582, 'x': -2.2060110569000244}, 'accuracy': 3, 'time': 1709558955907436300}, {'name': 'totalacceleration', 'values': {'z': 2.8725836277008057, 'y': -3.7429728507995605, 'x': 13.00379467010498}, 'accuracy': 3, 'time': 1709558955938305500}, {'name': 'accelerometer', 'values': {'z': 1.1239798069000244, 'y': -10.053305625915527, 'x': 2.873198986053467}, 'accuracy': 3, 'time': 1709558955957436400}, {'name': 'accelerometeruncalibrated', 'values': {'z': 1.306481122970581, 'y': -2.816352367401123, 'x': 19.171295166015625}, 'accuracy': 3, 'time': 1709558955978777900}, {'name': 'totalacceleration', 'values': {'z': 0.05922235921025276, 'y': -2.1361923217773438, 'x': 18.575481414794922}, 'accuracy': 3, 'time': 1709558956018859800}, {'name': 'accelerometer', 'values': {'z': -0.16017913818359375, 'y': -9.103135108947754, 'x': 10.487117767333984}, 'accuracy': 3, 'time': 1709558956007436300}, {'name': 'accelerometeruncalibrated', 'values': {'z': 1.2681959867477417, 'y': -2.155334949493408, 'x': 13.782060623168945}, 'accuracy': 3, 'time': 1709558956059136500}, {'name': 'accelerometer', 'values': {'z': -1.7595092058181763, 'y': -8.642736434936523, 'x': 11.25749683380127}, 'accuracy': 3, 'time': 1709558956057436400}, {'name': 'totalacceleration', 'values': {'z': 2.651845693588257, 'y': -2.562713146209717, 'x': 10.712666511535645}, 'accuracy': 3, 'time': 1709558956099609000}, {'name': 'accelerometer', 'values': {'z': -0.7909066677093506, 'y': -9.745600700378418, 'x': 7.220325946807861}, 'accuracy': 3, 'time': 1709558956107436300}, {'name': 'accelerometeruncalibrated', 'values': {'z': 4.057629108428955, 'y': -1.8681962490081787, 'x': 4.810770034790039}, 'accuracy': 3, 'time': 1709558956139690800}, {'name': 'accelerometer', 'values': {'z': -0.748690128326416, 'y': -10.407232284545898, 'x': 4.516651153564453}, 'accuracy': 3, 'time': 1709558956157436400}, {'name': 'totalacceleration', 'values': {'z': 8.625527381896973, 'y': -1.540379524230957, 'x': -3.466003656387329}, 'accuracy': 3, 'time': 1709558956180163000}, {'name': 'accelerometeruncalibrated', 'values': {'z': 27.980470657348633, 'y': 1.4500504732131958, 'x': -13.74198055267334}, 'accuracy': 3, 'time': 1709558956220245000}, {'name': 'accelerometer', 'values': {'z': 0.8084502220153809, 'y': -8.439895629882812, 'x': -3.1096138954162598}, 'accuracy': 3, 'time': 1709558956207436300}, {'name': 'totalacceleration', 'values': {'z': 36.326637268066406, 'y': 8.35992431640625, 'x': -17.965312957763672}, 'accuracy': 3, 'time': 1709558956260521700}, {'name': 'accelerometer', 'values': {'z': 19.51150131225586, 'y': -3.6654744148254395, 'x': -14.881329536437988}, 'accuracy': 3, 'time': 1709558956257436400}, {'name': 'accelerometeruncalibrated', 'values': {'z': 18.55693817138672, 'y': 6.044867992401123, 'x': -6.511468410491943}, 'accuracy': 3, 'time': 1709558956300994300}, {'name': 'totalacceleration', 'values': {'z': 8.067999839782715, 'y': 4.222733974456787, 'x': -2.558525562286377}, 'accuracy': 3, 'time': 1709558956341076000}, {'name': 'accelerometer', 'values': {'z': 24.387929916381836, 'y': 1.4166064262390137, 'x': -16.37967300415039}, 'accuracy': 3, 'time': 1709558956307436300}, {'name': 'accelerometer', 'values': {'z': 7.4353437423706055, 'y': -2.4749226570129395, 'x': -6.482048988342285}, 'accuracy': 3, 'time': 1709558956357436400}, {'name': 'accelerometeruncalibrated', 'values': {'z': 2.4843480587005615, 'y': 0.28175488114356995, 'x': 0.7070791125297546}, 'accuracy': 3, 'time': 1709558956381548300}, {'name': 'totalacceleration', 'values': {'z': 2.1062822341918945, 'y': -3.3164522647857666, 'x': 5.718247890472412}, 'accuracy': 3, 'time': 1709558956421630200}, {'name': 'accelerometer', 'values': {'z': 0.06211376190185547, 'y': -6.743622779846191, 'x': -4.409693241119385}, 'accuracy': 3, 'time': 1709558956407436300}, {'name': 'accelerometeruncalibrated', 'values': {'z': 1.6079767942428589, 'y': -5.026124000549316, 'x': 13.774881362915039}, 'accuracy': 3, 'time': 1709558956461907000}, {'name': 'accelerometer', 'values': {'z': -0.3327925205230713, 'y': -10.631465911865234, 'x': -0.22923660278320312}, 'accuracy': 3, 'time': 1709558956457436400}, {'name': 'totalacceleration', 'values': {'z': 0.04486542567610741, 'y': -3.2350962162017822, 'x': 20.164915084838867}, 'accuracy': 3, 'time': 1709558956502379800}, {'name': 'accelerometer', 'values': {'z': -0.7228224277496338, 'y': -11.205724716186523, 'x': 8.304009437561035}, 'accuracy': 3, 'time': 1709558956507436300}, {'name': 'accelerometeruncalibrated', 'values': {'z': -0.37148571014404297, 'y': -1.9184455871582031, 'x': 18.16810417175293}, 'accuracy': 3, 'time': 1709558956542461400}, {'name': 'accelerometer', 'values': {'z': -2.5408775806427, 'y': -9.149274826049805, 'x': 13.331110000610352}, 'accuracy': 3, 'time': 1709558956557436400}, {'name': 'totalacceleration', 'values': {'z': 1.5864413976669312, 'y': -1.0683952569961548, 'x': 12.44387435913086}, 'accuracy': 3, 'time': 1709558956582933800}, {'name': 'accelerometeruncalibrated', 'values': {'z': 1.0001999139785767, 'y': -0.381655216217041, 'x': 10.875378608703613}, 'accuracy': 3, 'time': 1709558956623211000}, {'name': 'accelerometer', 'values': {'z': -1.2686055898666382, 'y': -8.654568672180176, 'x': 8.057087898254395}, 'accuracy': 3, 'time': 1709558956607436300}, {'name': 'totalacceleration', 'values': {'z': -0.17288143932819366, 'y': -0.10827522724866867, 'x': 4.435096740722656}, 'accuracy': 3, 'time': 1709558956663292400}, {'name': 'accelerometer', 'values': {'z': -2.092273473739624, 'y': -8.507330894470215, 'x': 6.646119594573975}, 'accuracy': 3, 'time': 1709558956657436400}, {'name': 'accelerometeruncalibrated', 'values': {'z': 10.648658752441406, 'y': -4.2933220863342285, 'x': -5.589633464813232}, 'accuracy': 3, 'time': 1709558956703765000}, {'name': 'accelerometer', 'values': {'z': -4.836139678955078, 'y': -8.277091026306152, 'x': 0.14104413986206055}, 'accuracy': 3, 'time': 1709558956707436300}, {'name': 'totalacceleration', 'values': {'z': 40.576290130615234, 'y': 0.31764721870422363, 'x': -10.73719310760498}, 'accuracy': 3, 'time': 1709558956743846700}]}\n"
     ]
    },
    {
     "name": "stderr",
     "output_type": "stream",
     "text": [
      "192.168.190.135 - - [04/Mar/2024 18:59:18] \"POST /json_endpoint HTTP/1.1\" 200 -\n"
     ]
    },
    {
     "name": "stdout",
     "output_type": "stream",
     "text": [
      "{'messageId': 7, 'sessionId': 'e788f04f-2183-4c07-a7f1-df6e95fa321d', 'deviceId': '2274ee0c-3545-4831-b434-15dbe46693c4', 'payload': [{'name': 'accelerometer', 'values': {'z': 15.945456504821777, 'y': -9.109302520751953, 'x': -8.526298522949219}, 'accuracy': 3, 'time': 1709558956757436400}, {'name': 'accelerometeruncalibrated', 'values': {'z': 32.77090072631836, 'y': 6.932605266571045, 'x': -15.762121200561523}, 'accuracy': 3, 'time': 1709558956784319000}, {'name': 'totalacceleration', 'values': {'z': 14.587244987487793, 'y': 3.2410783767700195, 'x': -3.9254255294799805}, 'accuracy': 3, 'time': 1709558956824596200}, {'name': 'accelerometer', 'values': {'z': 31.128646850585938, 'y': 0.039114952087402344, 'x': -17.31966781616211}, 'accuracy': 3, 'time': 1709558956807436300}, {'name': 'accelerometeruncalibrated', 'values': {'z': 5.977869033813477, 'y': 1.1485549211502075, 'x': -1.5864413976669312}, 'accuracy': 3, 'time': 1709558956864678000}, {'name': 'accelerometer', 'values': {'z': 10.707786560058594, 'y': -3.980987548828125, 'x': -7.950484275817871}, 'accuracy': 3, 'time': 1709558956857436400}, {'name': 'totalacceleration', 'values': {'z': 3.243471145629883, 'y': -3.3020951747894287, 'x': 2.3952155113220215}, 'accuracy': 3, 'time': 1709558956905150200}, {'name': 'accelerometer', 'values': {'z': 1.928675651550293, 'y': -7.551829814910889, 'x': -5.345297813415527}, 'accuracy': 3, 'time': 1709558956907436300}, {'name': 'accelerometeruncalibrated', 'values': {'z': 4.0528435707092285, 'y': -7.448856830596924, 'x': 9.043673515319824}, 'accuracy': 3, 'time': 1709558956945232100}, {'name': 'accelerometer', 'values': {'z': 1.2651607990264893, 'y': -12.010696411132812, 'x': -1.6860241889953613}, 'accuracy': 3, 'time': 1709558956957436400}, {'name': 'totalacceleration', 'values': {'z': 1.4859428405761719, 'y': -8.282156944274902, 'x': 21.17049789428711}, 'accuracy': 3, 'time': 1709558956985509000}, {'name': 'accelerometeruncalibrated', 'values': {'z': -1.0492527484893799, 'y': -6.563512325286865, 'x': 26.217559814453125}, 'accuracy': 3, 'time': 1709558957025981700}, {'name': 'accelerometer', 'values': {'z': 0.6189749240875244, 'y': -13.877058982849121, 'x': 8.386364936828613}, 'accuracy': 3, 'time': 1709558957007436300}, {'name': 'totalacceleration', 'values': {'z': 1.2562319040298462, 'y': -5.234299659729004, 'x': 15.098711013793945}, 'accuracy': 3, 'time': 1709558957066063400}, {'name': 'accelerometer', 'values': {'z': -2.7783565521240234, 'y': -12.60348892211914, 'x': 18.264671325683594}, 'accuracy': 3, 'time': 1709558957057436400}, {'name': 'accelerometeruncalibrated', 'values': {'z': 2.8414769172668457, 'y': -4.147359848022461, 'x': 9.855438232421875}, 'accuracy': 3, 'time': 1709558957106535700}, {'name': 'accelerometer', 'values': {'z': -0.9252479076385498, 'y': -12.169770240783691, 'x': 8.290763854980469}, 'accuracy': 3, 'time': 1709558957107436300}, {'name': 'totalacceleration', 'values': {'z': 3.3296127319335938, 'y': -3.091526746749878, 'x': 6.070590972900391}, 'accuracy': 3, 'time': 1709558957146813200}, {'name': 'accelerometer', 'values': {'z': -0.39963579177856445, 'y': -11.746618270874023, 'x': 5.016257286071777}, 'accuracy': 3, 'time': 1709558957157436400}, {'name': 'accelerometeruncalibrated', 'values': {'z': 6.482754707336426, 'y': -4.133002758026123, 'x': -8.12961483001709}, 'accuracy': 3, 'time': 1709558957186894800}, {'name': 'accelerometer', 'values': {'z': -1.8465070724487305, 'y': -10.586584091186523, 'x': -3.0139036178588867}, 'accuracy': 3, 'time': 1709558957207436300}, {'name': 'totalacceleration', 'values': {'z': 33.17110061645508, 'y': -2.6703901290893555, 'x': -13.356138229370117}, 'accuracy': 3, 'time': 1709558957227367400}, {'name': 'accelerometeruncalibrated', 'values': {'z': 44.337806701660156, 'y': 7.409375190734863, 'x': -18.431913375854492}, 'accuracy': 3, 'time': 1709558957267449000}, {'name': 'accelerometer', 'values': {'z': 19.04524040222168, 'y': -7.490914821624756, 'x': -14.658994674682617}, 'accuracy': 3, 'time': 1709558957257436400}, {'name': 'totalacceleration', 'values': {'z': 17.079370498657227, 'y': 3.2506494522094727, 'x': -5.802595138549805}, 'accuracy': 3, 'time': 1709558957307921400}, {'name': 'accelerometer', 'values': {'z': 34.22247314453125, 'y': 1.3743963241577148, 'x': -18.56779670715332}, 'accuracy': 3, 'time': 1709558957307436300}, {'name': 'accelerometeruncalibrated', 'values': {'z': 6.892525672912598, 'y': 1.5314065217971802, 'x': -1.0713863372802734}, 'accuracy': 3, 'time': 1709558957348199000}, {'name': 'accelerometer', 'values': {'z': 7.652402877807617, 'y': -4.92526388168335, 'x': -6.093973636627197}, 'accuracy': 3, 'time': 1709558957357436400}, {'name': 'totalacceleration', 'values': {'z': 2.1134605407714844, 'y': -2.231905221939087, 'x': 2.012363910675049}, 'accuracy': 3, 'time': 1709558957388280600}, {'name': 'accelerometeruncalibrated', 'values': {'z': 2.2618155479431152, 'y': -5.37069034576416, 'x': 7.497311592102051}, 'accuracy': 3, 'time': 1709558957428754200}, {'name': 'accelerometer', 'values': {'z': 0.2778453826904297, 'y': -8.649660110473633, 'x': -3.677574872970581}, 'accuracy': 3, 'time': 1709558957407436300}, {'name': 'totalacceleration', 'values': {'z': -0.18723836541175842, 'y': -6.084349632263184, 'x': 16.240686416625977}, 'accuracy': 3, 'time': 1709558957468835000}, {'name': 'accelerometer', 'values': {'z': 0.055963993072509766, 'y': -12.277986526489258, 'x': 0.46584367752075195}, 'accuracy': 3, 'time': 1709558957457436400}, {'name': 'accelerometeruncalibrated', 'values': {'z': -4.058825492858887, 'y': -4.975874900817871, 'x': 24.47917366027832}, 'accuracy': 3, 'time': 1709558957509111800}, {'name': 'accelerometer', 'values': {'z': -1.8989514112472534, 'y': -12.511796951293945, 'x': 9.52837085723877}, 'accuracy': 3, 'time': 1709558957507436300}, {'name': 'totalacceleration', 'values': {'z': -0.6903293132781982, 'y': -3.9176487922668457, 'x': 17.895322799682617}, 'accuracy': 3, 'time': 1709558957549584400}, {'name': 'accelerometer', 'values': {'z': -4.765685081481934, 'y': -11.430181503295898, 'x': 16.221315383911133}, 'accuracy': 3, 'time': 1709558957557436400}, {'name': 'accelerometeruncalibrated', 'values': {'z': 1.5625132322311401, 'y': -2.8833513259887695, 'x': 12.845868110656738}, 'accuracy': 3, 'time': 1709558957589666000}, {'name': 'accelerometer', 'values': {'z': -1.0644173622131348, 'y': -11.245262145996094, 'x': 9.374529838562012}, 'accuracy': 3, 'time': 1709558957607436300}, {'name': 'totalacceleration', 'values': {'z': 1.5242279767990112, 'y': -2.715853691101074, 'x': 7.246065139770508}, 'accuracy': 3, 'time': 1709558957630138400}, {'name': 'accelerometeruncalibrated', 'values': {'z': 7.112665176391602, 'y': -4.286143779754639, 'x': -3.834498405456543}, 'accuracy': 3, 'time': 1709558957670220500}, {'name': 'accelerometer', 'values': {'z': -2.116666316986084, 'y': -10.938851356506348, 'x': 5.818018913269043}, 'accuracy': 3, 'time': 1709558957657436400}, {'name': 'totalacceleration', 'values': {'z': 31.128828048706055, 'y': -4.168895244598389, 'x': -6.973283290863037}, 'accuracy': 3, 'time': 1709558957710497300}, {'name': 'accelerometer', 'values': {'z': 0.9011054039001465, 'y': -10.36083984375, 'x': -5.859025955200195}, 'accuracy': 3, 'time': 1709558957707436300}, {'name': 'accelerometeruncalibrated', 'values': {'z': 45.156150817871094, 'y': 3.5497524738311768, 'x': -10.667801856994629}, 'accuracy': 3, 'time': 1709558957750970000}]}\n"
     ]
    },
    {
     "name": "stderr",
     "output_type": "stream",
     "text": [
      "192.168.190.213 - - [04/Mar/2024 18:59:19] \"POST /json_endpoint HTTP/1.1\" 200 -\n",
      "192.168.190.135 - - [04/Mar/2024 18:59:19] \"POST /json_endpoint HTTP/1.1\" 200 -\n"
     ]
    },
    {
     "name": "stdout",
     "output_type": "stream",
     "text": [
      "{'messageId': 8, 'sessionId': 'e788f04f-2183-4c07-a7f1-df6e95fa321d', 'deviceId': '2274ee0c-3545-4831-b434-15dbe46693c4', 'payload': [{'name': 'accelerometer', 'values': {'z': 28.862337112426758, 'y': -6.557877063751221, 'x': -11.905293464660645}, 'accuracy': 3, 'time': 1709558957757436400}, {'name': 'totalacceleration', 'values': {'z': 20.716461181640625, 'y': 3.3678979873657227, 'x': -0.6885347366333008}, 'accuracy': 3, 'time': 1709558957791052000}, {'name': 'accelerometeruncalibrated', 'values': {'z': 8.070392608642578, 'y': 3.8901314735412598, 'x': -2.196611166000366}, 'accuracy': 3, 'time': 1709558957831524400}, {'name': 'accelerometer', 'values': {'z': 25.718090057373047, 'y': -2.257134437561035, 'x': -6.289730072021484}, 'accuracy': 3, 'time': 1709558957807436300}, {'name': 'totalacceleration', 'values': {'z': 2.1230318546295166, 'y': 0.6191428303718567, 'x': 1.7078771591186523}, 'accuracy': 3, 'time': 1709558957871801600}, {'name': 'accelerometer', 'values': {'z': 5.923198223114014, 'y': -4.056522369384766, 'x': -4.843321800231934}, 'accuracy': 3, 'time': 1709558957857436400}, {'name': 'accelerometeruncalibrated', 'values': {'z': 0.6675975322723389, 'y': -2.2606191635131836, 'x': 7.0301127433776855}, 'accuracy': 3, 'time': 1709558957911883300}, {'name': 'accelerometer', 'values': {'z': -0.6545796394348145, 'y': -7.4346208572387695, 'x': -2.7168350219726562}, 'accuracy': 3, 'time': 1709558957907436300}, {'name': 'totalacceleration', 'values': {'z': -3.613760471343994, 'y': -3.014956474304199, 'x': 12.747762680053711}, 'accuracy': 3, 'time': 1709558957952355800}, {'name': 'accelerometer', 'values': {'z': -1.8665181398391724, 'y': -10.121530532836914, 'x': 2.323117256164551}, 'accuracy': 3, 'time': 1709558957957436400}, {'name': 'accelerometeruncalibrated', 'values': {'z': -6.632306098937988, 'y': -1.3268201351165771, 'x': 16.89452362060547}, 'accuracy': 3, 'time': 1709558957992438000}, {'name': 'accelerometer', 'values': {'z': -6.327174663543701, 'y': -9.29873275756836, 'x': 8.438041687011719}, 'accuracy': 3, 'time': 1709558958007436300}, {'name': 'totalacceleration', 'values': {'z': -5.387440204620361, 'y': -0.9822536706924438, 'x': 17.713468551635742}, 'accuracy': 3, 'time': 1709558958032910300}, {'name': 'accelerometer', 'values': {'z': -7.156265735626221, 'y': -8.04782772064209, 'x': 11.067541122436523}, 'accuracy': 3, 'time': 1709558958057436400}, {'name': 'accelerometeruncalibrated', 'values': {'z': -2.5459632873535156, 'y': -0.20159530639648438, 'x': 14.488540649414062}, 'accuracy': 3, 'time': 1709558958073187600}, {'name': 'totalacceleration', 'values': {'z': -0.6711867451667786, 'y': 0.5545366406440735, 'x': 9.857831001281738}, 'accuracy': 3, 'time': 1709558958113269200}, {'name': 'accelerometer', 'values': {'z': -4.6720147132873535, 'y': -8.0358247756958, 'x': 9.334994316101074}, 'accuracy': 3, 'time': 1709558958107436300}, {'name': 'accelerometeruncalibrated', 'values': {'z': 3.8638103008270264, 'y': 1.0552347898483276, 'x': 1.911865234375}, 'accuracy': 3, 'time': 1709558958153743000}, {'name': 'accelerometer', 'values': {'z': -3.5471742153167725, 'y': -7.318145751953125, 'x': 4.567843914031982}, 'accuracy': 3, 'time': 1709558958157436400}, {'name': 'totalacceleration', 'values': {'z': 15.903895378112793, 'y': 0.9906286001205444, 'x': -4.2245283126831055}, 'accuracy': 3, 'time': 1709558958193824000}, {'name': 'accelerometeruncalibrated', 'values': {'z': 23.98685073852539, 'y': 4.924428939819336, 'x': -1.6079767942428589}, 'accuracy': 3, 'time': 1709558958234101000}, {'name': 'accelerometer', 'values': {'z': 1.5058445930480957, 'y': -5.989932537078857, 'x': -3.9300920963287354}, 'accuracy': 3, 'time': 1709558958207436300}, {'name': 'totalacceleration', 'values': {'z': 14.388640403747559, 'y': 6.085546016693115, 'x': 2.5220351219177246}, 'accuracy': 3, 'time': 1709558958274573300}, {'name': 'accelerometer', 'values': {'z': 16.07863426208496, 'y': -2.6018471717834473, 'x': -6.199546813964844}, 'accuracy': 3, 'time': 1709558958257436400}, {'name': 'accelerometeruncalibrated', 'values': {'z': 8.706883430480957, 'y': 6.9206414222717285, 'x': 2.0650060176849365}, 'accuracy': 3, 'time': 1709558958314655000}, {'name': 'accelerometer', 'values': {'z': 8.722373008728027, 'y': -0.29732513427734375, 'x': -0.5584969520568848}, 'accuracy': 3, 'time': 1709558958307436300}, {'name': 'totalacceleration', 'values': {'z': 8.027321815490723, 'y': 7.265805721282959, 'x': 1.6265212297439575}, 'accuracy': 3, 'time': 1709558958355127600}, {'name': 'accelerometer', 'values': {'z': 2.0106325149536133, 'y': 0.20005416870117188, 'x': -0.4986088275909424}, 'accuracy': 3, 'time': 1709558958357436400}, {'name': 'accelerometeruncalibrated', 'values': {'z': 8.60877799987793, 'y': 6.729215621948242, 'x': 1.3776676654815674}, 'accuracy': 3, 'time': 1709558958395405000}, {'name': 'accelerometer', 'values': {'z': 2.2545132637023926, 'y': 0.0503692626953125, 'x': -1.0200244188308716}, 'accuracy': 3, 'time': 1709558958407436300}, {'name': 'totalacceleration', 'values': {'z': 6.056832313537598, 'y': 6.856035232543945, 'x': 2.1200408935546875}, 'accuracy': 3, 'time': 1709558958435486700}, {'name': 'accelerometer', 'values': {'z': 1.420698642730713, 'y': -0.6784219741821289, 'x': -0.5693634748458862}, 'accuracy': 3, 'time': 1709558958457436400}, {'name': 'accelerometeruncalibrated', 'values': {'z': 2.779263496398926, 'y': 7.818548202514648, 'x': 2.0865414142608643}, 'accuracy': 3, 'time': 1709558958475959300}, {'name': 'totalacceleration', 'values': {'z': 2.750549554824829, 'y': 8.261817932128906, 'x': 2.060220241546631}, 'accuracy': 3, 'time': 1709558958516041200}, {'name': 'accelerometer', 'values': {'z': -2.093287467956543, 'y': -0.12845706939697266, 'x': -0.20437288284301758}, 'accuracy': 3, 'time': 1709558958507436300}, {'name': 'accelerometeruncalibrated', 'values': {'z': 5.142175674438477, 'y': 8.285746574401855, 'x': 1.3441680669784546}, 'accuracy': 3, 'time': 1709558958556513800}, {'name': 'accelerometer', 'values': {'z': -2.2386488914489746, 'y': 0.41835594177246094, 'x': -0.32170915603637695}, 'accuracy': 3, 'time': 1709558958557436400}, {'name': 'totalacceleration', 'values': {'z': 5.443671703338623, 'y': 7.947760581970215, 'x': 2.218146562576294}, 'accuracy': 3, 'time': 1709558958596791000}, {'name': 'accelerometer', 'values': {'z': 0.17467403411865234, 'y': 0.34684276580810547, 'x': -0.8340368270874023}, 'accuracy': 3, 'time': 1709558958607436300}, {'name': 'accelerometeruncalibrated', 'values': {'z': 5.151747226715088, 'y': 8.060821533203125, 'x': 2.3018953800201416}, 'accuracy': 3, 'time': 1709558958636872700}, {'name': 'totalacceleration', 'values': {'z': 4.989035129547119, 'y': 8.333602905273438, 'x': 1.5738791227340698}, 'accuracy': 3, 'time': 1709558958677345300}, {'name': 'accelerometer', 'values': {'z': 0.0583796501159668, 'y': 0.06379985809326172, 'x': 0.27546238899230957}, 'accuracy': 3, 'time': 1709558958657436400}, {'name': 'accelerometeruncalibrated', 'values': {'z': 4.9531426429748535, 'y': 8.333602905273438, 'x': 2.251646041870117}, 'accuracy': 3, 'time': 1709558958717427500}, {'name': 'accelerometer', 'values': {'z': -0.02181386947631836, 'y': 0.25792360305786133, 'x': -0.498691201210022}, 'accuracy': 3, 'time': 1709558958707436300}, {'name': 'totalacceleration', 'values': {'z': 5.230710506439209, 'y': 8.340781211853027, 'x': 1.9812572002410889}, 'accuracy': 3, 'time': 1709558958757899800}]}\n"
     ]
    },
    {
     "name": "stderr",
     "output_type": "stream",
     "text": [
      "192.168.190.213 - - [04/Mar/2024 18:59:21] \"POST /json_endpoint HTTP/1.1\" 200 -\n",
      "192.168.190.213 - - [04/Mar/2024 18:59:23] \"POST /json_endpoint HTTP/1.1\" 200 -\n",
      "192.168.190.213 - - [04/Mar/2024 18:59:25] \"POST /json_endpoint HTTP/1.1\" 200 -\n",
      "192.168.190.213 - - [04/Mar/2024 18:59:27] \"POST /json_endpoint HTTP/1.1\" 200 -\n",
      "192.168.190.213 - - [04/Mar/2024 18:59:29] \"POST /json_endpoint HTTP/1.1\" 200 -\n",
      "192.168.190.213 - - [04/Mar/2024 18:59:31] \"POST /json_endpoint HTTP/1.1\" 200 -\n",
      "192.168.190.213 - - [04/Mar/2024 18:59:33] \"POST /json_endpoint HTTP/1.1\" 200 -\n",
      "192.168.190.213 - - [04/Mar/2024 18:59:35] \"POST /json_endpoint HTTP/1.1\" 200 -\n",
      "192.168.190.213 - - [04/Mar/2024 18:59:37] \"POST /json_endpoint HTTP/1.1\" 200 -\n",
      "192.168.190.213 - - [04/Mar/2024 18:59:39] \"POST /json_endpoint HTTP/1.1\" 200 -\n",
      "192.168.190.213 - - [04/Mar/2024 18:59:41] \"POST /json_endpoint HTTP/1.1\" 200 -\n",
      "192.168.190.213 - - [04/Mar/2024 18:59:43] \"POST /json_endpoint HTTP/1.1\" 200 -\n",
      "192.168.190.213 - - [04/Mar/2024 18:59:45] \"POST /json_endpoint HTTP/1.1\" 200 -\n",
      "192.168.190.213 - - [04/Mar/2024 18:59:47] \"POST /json_endpoint HTTP/1.1\" 200 -\n",
      "192.168.190.213 - - [04/Mar/2024 18:59:49] \"POST /json_endpoint HTTP/1.1\" 200 -\n",
      "192.168.190.213 - - [04/Mar/2024 18:59:51] \"POST /json_endpoint HTTP/1.1\" 200 -\n",
      "192.168.190.213 - - [04/Mar/2024 18:59:54] \"POST /json_endpoint HTTP/1.1\" 200 -\n",
      "192.168.190.213 - - [04/Mar/2024 18:59:56] \"POST /json_endpoint HTTP/1.1\" 200 -\n",
      "192.168.190.213 - - [04/Mar/2024 18:59:58] \"POST /json_endpoint HTTP/1.1\" 200 -\n",
      "192.168.190.213 - - [04/Mar/2024 19:00:00] \"POST /json_endpoint HTTP/1.1\" 200 -\n",
      "192.168.190.213 - - [04/Mar/2024 19:00:02] \"POST /json_endpoint HTTP/1.1\" 200 -\n",
      "192.168.190.213 - - [04/Mar/2024 19:00:04] \"POST /json_endpoint HTTP/1.1\" 200 -\n",
      "192.168.190.213 - - [04/Mar/2024 19:00:06] \"POST /json_endpoint HTTP/1.1\" 200 -\n",
      "192.168.190.213 - - [04/Mar/2024 19:00:08] \"POST /json_endpoint HTTP/1.1\" 200 -\n",
      "192.168.190.213 - - [04/Mar/2024 19:00:10] \"POST /json_endpoint HTTP/1.1\" 200 -\n",
      "192.168.190.213 - - [04/Mar/2024 19:00:12] \"POST /json_endpoint HTTP/1.1\" 200 -\n",
      "192.168.190.213 - - [04/Mar/2024 19:00:14] \"POST /json_endpoint HTTP/1.1\" 200 -\n",
      "192.168.190.213 - - [04/Mar/2024 19:00:16] \"POST /json_endpoint HTTP/1.1\" 200 -\n",
      "192.168.190.213 - - [04/Mar/2024 19:00:18] \"POST /json_endpoint HTTP/1.1\" 200 -\n",
      "192.168.190.213 - - [04/Mar/2024 19:00:20] \"POST /json_endpoint HTTP/1.1\" 200 -\n",
      "192.168.190.213 - - [04/Mar/2024 19:00:22] \"POST /json_endpoint HTTP/1.1\" 200 -\n",
      "192.168.190.213 - - [04/Mar/2024 19:00:24] \"POST /json_endpoint HTTP/1.1\" 200 -\n",
      "192.168.190.213 - - [04/Mar/2024 19:00:26] \"POST /json_endpoint HTTP/1.1\" 200 -\n",
      "192.168.190.213 - - [04/Mar/2024 19:00:28] \"POST /json_endpoint HTTP/1.1\" 200 -\n",
      "192.168.190.213 - - [04/Mar/2024 19:00:30] \"POST /json_endpoint HTTP/1.1\" 200 -\n",
      "192.168.190.213 - - [04/Mar/2024 19:00:32] \"POST /json_endpoint HTTP/1.1\" 200 -\n",
      "192.168.190.213 - - [04/Mar/2024 19:00:34] \"POST /json_endpoint HTTP/1.1\" 200 -\n",
      "192.168.190.213 - - [04/Mar/2024 19:00:36] \"POST /json_endpoint HTTP/1.1\" 200 -\n",
      "192.168.190.213 - - [04/Mar/2024 19:00:38] \"POST /json_endpoint HTTP/1.1\" 200 -\n",
      "192.168.190.213 - - [04/Mar/2024 19:00:40] \"POST /json_endpoint HTTP/1.1\" 200 -\n",
      "192.168.190.213 - - [04/Mar/2024 19:00:42] \"POST /json_endpoint HTTP/1.1\" 200 -\n",
      "192.168.190.213 - - [04/Mar/2024 19:00:44] \"POST /json_endpoint HTTP/1.1\" 200 -\n",
      "192.168.190.213 - - [04/Mar/2024 19:00:46] \"POST /json_endpoint HTTP/1.1\" 200 -\n",
      "192.168.190.213 - - [04/Mar/2024 19:00:48] \"POST /json_endpoint HTTP/1.1\" 200 -\n",
      "192.168.190.213 - - [04/Mar/2024 19:00:50] \"POST /json_endpoint HTTP/1.1\" 200 -\n",
      "192.168.190.213 - - [04/Mar/2024 19:00:52] \"POST /json_endpoint HTTP/1.1\" 200 -\n",
      "192.168.190.213 - - [04/Mar/2024 19:00:54] \"POST /json_endpoint HTTP/1.1\" 200 -\n",
      "192.168.190.213 - - [04/Mar/2024 19:00:56] \"POST /json_endpoint HTTP/1.1\" 200 -\n",
      "192.168.190.213 - - [04/Mar/2024 19:00:58] \"POST /json_endpoint HTTP/1.1\" 200 -\n",
      "192.168.190.213 - - [04/Mar/2024 19:01:00] \"POST /json_endpoint HTTP/1.1\" 200 -\n",
      "192.168.190.213 - - [04/Mar/2024 19:01:02] \"POST /json_endpoint HTTP/1.1\" 200 -\n",
      "192.168.190.213 - - [04/Mar/2024 19:01:04] \"POST /json_endpoint HTTP/1.1\" 200 -\n",
      "192.168.190.213 - - [04/Mar/2024 19:01:06] \"POST /json_endpoint HTTP/1.1\" 200 -\n",
      "192.168.190.213 - - [04/Mar/2024 19:01:08] \"POST /json_endpoint HTTP/1.1\" 200 -\n",
      "192.168.190.213 - - [04/Mar/2024 19:01:10] \"POST /json_endpoint HTTP/1.1\" 200 -\n",
      "192.168.190.213 - - [04/Mar/2024 19:01:12] \"POST /json_endpoint HTTP/1.1\" 200 -\n",
      "192.168.190.213 - - [04/Mar/2024 19:01:14] \"POST /json_endpoint HTTP/1.1\" 200 -\n",
      "192.168.190.213 - - [04/Mar/2024 19:01:16] \"POST /json_endpoint HTTP/1.1\" 200 -\n",
      "192.168.190.213 - - [04/Mar/2024 19:01:18] \"POST /json_endpoint HTTP/1.1\" 200 -\n",
      "192.168.190.213 - - [04/Mar/2024 19:01:20] \"POST /json_endpoint HTTP/1.1\" 200 -\n",
      "192.168.190.213 - - [04/Mar/2024 19:01:22] \"POST /json_endpoint HTTP/1.1\" 200 -\n",
      "192.168.190.213 - - [04/Mar/2024 19:01:24] \"POST /json_endpoint HTTP/1.1\" 200 -\n",
      "192.168.190.213 - - [04/Mar/2024 19:01:26] \"POST /json_endpoint HTTP/1.1\" 200 -\n",
      "192.168.190.213 - - [04/Mar/2024 19:01:28] \"POST /json_endpoint HTTP/1.1\" 200 -\n",
      "192.168.190.213 - - [04/Mar/2024 19:01:30] \"POST /json_endpoint HTTP/1.1\" 200 -\n",
      "192.168.190.213 - - [04/Mar/2024 19:01:32] \"POST /json_endpoint HTTP/1.1\" 200 -\n",
      "192.168.190.213 - - [04/Mar/2024 19:01:34] \"POST /json_endpoint HTTP/1.1\" 200 -\n"
     ]
    }
   ],
   "source": [
    "# Final set up\n",
    "if __name__ == '__main__':\n",
    "    # Start the Flask application\n",
    "    flask_thread = Thread(target=app.run, kwargs={'host': '192.168.190.213', 'port': 6000})\n",
    "    flask_thread.start()\n",
    "\n",
    "    # Start the Prometheus HTTP server on port 8000\n",
    "    start_http_server(8000)\n",
    "\n",
    "    # Start the thread for fetching and updating metrics\n",
    "    metrics_thread = Thread(target=fetch_and_update_metrics)\n",
    "    metrics_thread.start()"
   ]
  },
  {
   "cell_type": "code",
   "execution_count": null,
   "id": "1d1eec5f-4e88-4300-8669-585f4ffe0825",
   "metadata": {},
   "outputs": [],
   "source": []
  }
 ],
 "metadata": {
  "kernelspec": {
   "display_name": "Python 3 (ipykernel)",
   "language": "python",
   "name": "python3"
  },
  "language_info": {
   "codemirror_mode": {
    "name": "ipython",
    "version": 3
   },
   "file_extension": ".py",
   "mimetype": "text/x-python",
   "name": "python",
   "nbconvert_exporter": "python",
   "pygments_lexer": "ipython3",
   "version": "3.8.18"
  }
 },
 "nbformat": 4,
 "nbformat_minor": 5
}
