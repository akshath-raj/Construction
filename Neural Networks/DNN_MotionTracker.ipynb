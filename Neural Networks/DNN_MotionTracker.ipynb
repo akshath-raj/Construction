{
 "cells": [
  {
   "cell_type": "code",
   "execution_count": 1,
   "id": "b33eeaea-a46b-4a4d-8c6f-f53858783202",
   "metadata": {},
   "outputs": [],
   "source": [
    "# Importing necessary libraries\n",
    "import numpy as np\n",
    "import pandas as pd\n",
    "from sklearn.model_selection import train_test_split\n",
    "from sklearn.preprocessing import LabelEncoder\n",
    "from tensorflow.keras.models import Sequential\n",
    "from tensorflow.keras.layers import Dense, Dropout\n",
    "from tensorflow.keras.utils import to_categorical \n",
    "from tensorflow import keras"
   ]
  },
  {
   "cell_type": "code",
   "execution_count": 2,
   "id": "ee8f9983-af89-4b7e-9550-898645adf9ce",
   "metadata": {},
   "outputs": [
    {
     "data": {
      "text/html": [
       "<div>\n",
       "<style scoped>\n",
       "    .dataframe tbody tr th:only-of-type {\n",
       "        vertical-align: middle;\n",
       "    }\n",
       "\n",
       "    .dataframe tbody tr th {\n",
       "        vertical-align: top;\n",
       "    }\n",
       "\n",
       "    .dataframe thead th {\n",
       "        text-align: right;\n",
       "    }\n",
       "</style>\n",
       "<table border=\"1\" class=\"dataframe\">\n",
       "  <thead>\n",
       "    <tr style=\"text-align: right;\">\n",
       "      <th></th>\n",
       "      <th>time</th>\n",
       "      <th>seconds_elapsed</th>\n",
       "      <th>z</th>\n",
       "      <th>y</th>\n",
       "      <th>x</th>\n",
       "      <th>Status</th>\n",
       "    </tr>\n",
       "  </thead>\n",
       "  <tbody>\n",
       "    <tr>\n",
       "      <th>0</th>\n",
       "      <td>1708493170841157600</td>\n",
       "      <td>0.021158</td>\n",
       "      <td>-0.079310</td>\n",
       "      <td>0.252951</td>\n",
       "      <td>-0.038916</td>\n",
       "      <td>Stationary</td>\n",
       "    </tr>\n",
       "    <tr>\n",
       "      <th>1</th>\n",
       "      <td>1708493170891157500</td>\n",
       "      <td>0.071157</td>\n",
       "      <td>-0.147697</td>\n",
       "      <td>0.292018</td>\n",
       "      <td>0.020704</td>\n",
       "      <td>Stationary</td>\n",
       "    </tr>\n",
       "    <tr>\n",
       "      <th>2</th>\n",
       "      <td>1708493170941157600</td>\n",
       "      <td>0.121158</td>\n",
       "      <td>0.760538</td>\n",
       "      <td>-0.030761</td>\n",
       "      <td>-0.206297</td>\n",
       "      <td>Walking</td>\n",
       "    </tr>\n",
       "    <tr>\n",
       "      <th>3</th>\n",
       "      <td>1708493170991157500</td>\n",
       "      <td>0.171157</td>\n",
       "      <td>1.379391</td>\n",
       "      <td>-0.903890</td>\n",
       "      <td>-1.007881</td>\n",
       "      <td>Walking</td>\n",
       "    </tr>\n",
       "    <tr>\n",
       "      <th>4</th>\n",
       "      <td>1708493171041157600</td>\n",
       "      <td>0.221158</td>\n",
       "      <td>0.397816</td>\n",
       "      <td>0.101301</td>\n",
       "      <td>-0.608849</td>\n",
       "      <td>Walking</td>\n",
       "    </tr>\n",
       "    <tr>\n",
       "      <th>...</th>\n",
       "      <td>...</td>\n",
       "      <td>...</td>\n",
       "      <td>...</td>\n",
       "      <td>...</td>\n",
       "      <td>...</td>\n",
       "      <td>...</td>\n",
       "    </tr>\n",
       "    <tr>\n",
       "      <th>2442</th>\n",
       "      <td>1708492685321721900</td>\n",
       "      <td>33.598722</td>\n",
       "      <td>-0.207175</td>\n",
       "      <td>0.018018</td>\n",
       "      <td>-0.148940</td>\n",
       "      <td>Stationary</td>\n",
       "    </tr>\n",
       "    <tr>\n",
       "      <th>2443</th>\n",
       "      <td>1708492685371416800</td>\n",
       "      <td>33.648417</td>\n",
       "      <td>-0.335122</td>\n",
       "      <td>0.111891</td>\n",
       "      <td>0.005212</td>\n",
       "      <td>Stationary</td>\n",
       "    </tr>\n",
       "    <tr>\n",
       "      <th>2444</th>\n",
       "      <td>1708492685421111800</td>\n",
       "      <td>33.698112</td>\n",
       "      <td>-0.040419</td>\n",
       "      <td>0.014542</td>\n",
       "      <td>0.139490</td>\n",
       "      <td>Stationary</td>\n",
       "    </tr>\n",
       "    <tr>\n",
       "      <th>2445</th>\n",
       "      <td>1708492685470807000</td>\n",
       "      <td>33.747807</td>\n",
       "      <td>0.377902</td>\n",
       "      <td>-0.099976</td>\n",
       "      <td>-0.135328</td>\n",
       "      <td>Stationary</td>\n",
       "    </tr>\n",
       "    <tr>\n",
       "      <th>2446</th>\n",
       "      <td>1708492685520502500</td>\n",
       "      <td>33.797502</td>\n",
       "      <td>-0.379959</td>\n",
       "      <td>0.067295</td>\n",
       "      <td>-0.006141</td>\n",
       "      <td>Stationary</td>\n",
       "    </tr>\n",
       "  </tbody>\n",
       "</table>\n",
       "<p>2447 rows × 6 columns</p>\n",
       "</div>"
      ],
      "text/plain": [
       "                     time  seconds_elapsed         z         y         x  \\\n",
       "0     1708493170841157600         0.021158 -0.079310  0.252951 -0.038916   \n",
       "1     1708493170891157500         0.071157 -0.147697  0.292018  0.020704   \n",
       "2     1708493170941157600         0.121158  0.760538 -0.030761 -0.206297   \n",
       "3     1708493170991157500         0.171157  1.379391 -0.903890 -1.007881   \n",
       "4     1708493171041157600         0.221158  0.397816  0.101301 -0.608849   \n",
       "...                   ...              ...       ...       ...       ...   \n",
       "2442  1708492685321721900        33.598722 -0.207175  0.018018 -0.148940   \n",
       "2443  1708492685371416800        33.648417 -0.335122  0.111891  0.005212   \n",
       "2444  1708492685421111800        33.698112 -0.040419  0.014542  0.139490   \n",
       "2445  1708492685470807000        33.747807  0.377902 -0.099976 -0.135328   \n",
       "2446  1708492685520502500        33.797502 -0.379959  0.067295 -0.006141   \n",
       "\n",
       "          Status  \n",
       "0     Stationary  \n",
       "1     Stationary  \n",
       "2        Walking  \n",
       "3        Walking  \n",
       "4        Walking  \n",
       "...          ...  \n",
       "2442  Stationary  \n",
       "2443  Stationary  \n",
       "2444  Stationary  \n",
       "2445  Stationary  \n",
       "2446  Stationary  \n",
       "\n",
       "[2447 rows x 6 columns]"
      ]
     },
     "execution_count": 2,
     "metadata": {},
     "output_type": "execute_result"
    }
   ],
   "source": [
    "# Reading CSV file\n",
    "df=pd.read_csv(\"OriginalsData.csv\") # Self-crafted data using Sensor Logger app.\n",
    "df"
   ]
  },
  {
   "cell_type": "code",
   "execution_count": 3,
   "id": "7338e11c-1f8f-4f7f-8417-cc66594e6480",
   "metadata": {},
   "outputs": [],
   "source": [
    "# Defining x and y for training data\n",
    "X=df[[\"x\",\"y\",\"z\"]]\n",
    "y=df[\"Status\"]"
   ]
  },
  {
   "cell_type": "code",
   "execution_count": 4,
   "id": "c1e09717-b99e-4dd0-a746-9a0ed264b830",
   "metadata": {},
   "outputs": [
    {
     "data": {
      "text/html": [
       "<div>\n",
       "<style scoped>\n",
       "    .dataframe tbody tr th:only-of-type {\n",
       "        vertical-align: middle;\n",
       "    }\n",
       "\n",
       "    .dataframe tbody tr th {\n",
       "        vertical-align: top;\n",
       "    }\n",
       "\n",
       "    .dataframe thead th {\n",
       "        text-align: right;\n",
       "    }\n",
       "</style>\n",
       "<table border=\"1\" class=\"dataframe\">\n",
       "  <thead>\n",
       "    <tr style=\"text-align: right;\">\n",
       "      <th></th>\n",
       "      <th>x</th>\n",
       "      <th>y</th>\n",
       "      <th>z</th>\n",
       "    </tr>\n",
       "  </thead>\n",
       "  <tbody>\n",
       "    <tr>\n",
       "      <th>0</th>\n",
       "      <td>-0.038916</td>\n",
       "      <td>0.252951</td>\n",
       "      <td>-0.079310</td>\n",
       "    </tr>\n",
       "    <tr>\n",
       "      <th>1</th>\n",
       "      <td>0.020704</td>\n",
       "      <td>0.292018</td>\n",
       "      <td>-0.147697</td>\n",
       "    </tr>\n",
       "    <tr>\n",
       "      <th>2</th>\n",
       "      <td>-0.206297</td>\n",
       "      <td>-0.030761</td>\n",
       "      <td>0.760538</td>\n",
       "    </tr>\n",
       "    <tr>\n",
       "      <th>3</th>\n",
       "      <td>-1.007881</td>\n",
       "      <td>-0.903890</td>\n",
       "      <td>1.379391</td>\n",
       "    </tr>\n",
       "    <tr>\n",
       "      <th>4</th>\n",
       "      <td>-0.608849</td>\n",
       "      <td>0.101301</td>\n",
       "      <td>0.397816</td>\n",
       "    </tr>\n",
       "    <tr>\n",
       "      <th>...</th>\n",
       "      <td>...</td>\n",
       "      <td>...</td>\n",
       "      <td>...</td>\n",
       "    </tr>\n",
       "    <tr>\n",
       "      <th>2442</th>\n",
       "      <td>-0.148940</td>\n",
       "      <td>0.018018</td>\n",
       "      <td>-0.207175</td>\n",
       "    </tr>\n",
       "    <tr>\n",
       "      <th>2443</th>\n",
       "      <td>0.005212</td>\n",
       "      <td>0.111891</td>\n",
       "      <td>-0.335122</td>\n",
       "    </tr>\n",
       "    <tr>\n",
       "      <th>2444</th>\n",
       "      <td>0.139490</td>\n",
       "      <td>0.014542</td>\n",
       "      <td>-0.040419</td>\n",
       "    </tr>\n",
       "    <tr>\n",
       "      <th>2445</th>\n",
       "      <td>-0.135328</td>\n",
       "      <td>-0.099976</td>\n",
       "      <td>0.377902</td>\n",
       "    </tr>\n",
       "    <tr>\n",
       "      <th>2446</th>\n",
       "      <td>-0.006141</td>\n",
       "      <td>0.067295</td>\n",
       "      <td>-0.379959</td>\n",
       "    </tr>\n",
       "  </tbody>\n",
       "</table>\n",
       "<p>2447 rows × 3 columns</p>\n",
       "</div>"
      ],
      "text/plain": [
       "             x         y         z\n",
       "0    -0.038916  0.252951 -0.079310\n",
       "1     0.020704  0.292018 -0.147697\n",
       "2    -0.206297 -0.030761  0.760538\n",
       "3    -1.007881 -0.903890  1.379391\n",
       "4    -0.608849  0.101301  0.397816\n",
       "...        ...       ...       ...\n",
       "2442 -0.148940  0.018018 -0.207175\n",
       "2443  0.005212  0.111891 -0.335122\n",
       "2444  0.139490  0.014542 -0.040419\n",
       "2445 -0.135328 -0.099976  0.377902\n",
       "2446 -0.006141  0.067295 -0.379959\n",
       "\n",
       "[2447 rows x 3 columns]"
      ]
     },
     "execution_count": 4,
     "metadata": {},
     "output_type": "execute_result"
    }
   ],
   "source": [
    "# X values\n",
    "X"
   ]
  },
  {
   "cell_type": "code",
   "execution_count": 5,
   "id": "49b8fa38-77bc-4eed-8658-b4a1a6f94c58",
   "metadata": {},
   "outputs": [
    {
     "data": {
      "text/plain": [
       "0       Stationary\n",
       "1       Stationary\n",
       "2          Walking\n",
       "3          Walking\n",
       "4          Walking\n",
       "           ...    \n",
       "2442    Stationary\n",
       "2443    Stationary\n",
       "2444    Stationary\n",
       "2445    Stationary\n",
       "2446    Stationary\n",
       "Name: Status, Length: 2447, dtype: object"
      ]
     },
     "execution_count": 5,
     "metadata": {},
     "output_type": "execute_result"
    }
   ],
   "source": [
    "# y values\n",
    "y"
   ]
  },
  {
   "cell_type": "code",
   "execution_count": 6,
   "id": "93dd1a8a-8fed-4c25-b533-c2414aa0d9f7",
   "metadata": {},
   "outputs": [],
   "source": [
    "# Encode categorical labels\n",
    "label_encoder = LabelEncoder()\n",
    "y_encoded = label_encoder.fit_transform(y)\n",
    "\n",
    "# Split the data into training and testing sets\n",
    "X_train, X_test, y_train, y_test = train_test_split(X, y_encoded, test_size=0.2, random_state=42)"
   ]
  },
  {
   "cell_type": "code",
   "execution_count": 7,
   "id": "91c3ae46-d197-45bb-85d5-940a0a491e2f",
   "metadata": {},
   "outputs": [],
   "source": [
    "# Build the neural network model\n",
    "model = Sequential()\n",
    "model.add(Dense(64, input_dim=3, activation='relu'))\n",
    "model.add(Dense(32, activation='relu'))\n",
    "model.add(Dense(3, activation='softmax'))  # Assuming 3 classes in the output"
   ]
  },
  {
   "cell_type": "code",
   "execution_count": 8,
   "id": "74397218-6bae-43d4-a917-48a5a2785534",
   "metadata": {},
   "outputs": [],
   "source": [
    "# Compile the model\n",
    "model.compile(loss='sparse_categorical_crossentropy', optimizer='adam', metrics=['accuracy'])"
   ]
  },
  {
   "cell_type": "code",
   "execution_count": 9,
   "id": "de0e8b63-f2df-49db-95b8-b30e530be44d",
   "metadata": {},
   "outputs": [
    {
     "name": "stdout",
     "output_type": "stream",
     "text": [
      "Epoch 1/10\n"
     ]
    },
    {
     "name": "stderr",
     "output_type": "stream",
     "text": [
      "2024-03-04 19:35:00.410668: W tensorflow/tsl/platform/profile_utils/cpu_utils.cc:128] Failed to get CPU frequency: 0 Hz\n"
     ]
    },
    {
     "name": "stdout",
     "output_type": "stream",
     "text": [
      "62/62 [==============================] - 0s 2ms/step - loss: 0.7687 - accuracy: 0.6658 - val_loss: 0.6919 - val_accuracy: 0.6490\n",
      "Epoch 2/10\n",
      "62/62 [==============================] - 0s 887us/step - loss: 0.5780 - accuracy: 0.7634 - val_loss: 0.5062 - val_accuracy: 0.9204\n",
      "Epoch 3/10\n",
      "62/62 [==============================] - 0s 861us/step - loss: 0.4195 - accuracy: 0.9371 - val_loss: 0.3482 - val_accuracy: 0.9306\n",
      "Epoch 4/10\n",
      "62/62 [==============================] - 0s 838us/step - loss: 0.2922 - accuracy: 0.9366 - val_loss: 0.2519 - val_accuracy: 0.9388\n",
      "Epoch 5/10\n",
      "62/62 [==============================] - 0s 833us/step - loss: 0.2127 - accuracy: 0.9458 - val_loss: 0.1839 - val_accuracy: 0.9388\n",
      "Epoch 6/10\n",
      "62/62 [==============================] - 0s 842us/step - loss: 0.1679 - accuracy: 0.9530 - val_loss: 0.1499 - val_accuracy: 0.9510\n",
      "Epoch 7/10\n",
      "62/62 [==============================] - 0s 833us/step - loss: 0.1371 - accuracy: 0.9607 - val_loss: 0.1316 - val_accuracy: 0.9592\n",
      "Epoch 8/10\n",
      "62/62 [==============================] - 0s 830us/step - loss: 0.1188 - accuracy: 0.9637 - val_loss: 0.1129 - val_accuracy: 0.9612\n",
      "Epoch 9/10\n",
      "62/62 [==============================] - 0s 822us/step - loss: 0.0995 - accuracy: 0.9704 - val_loss: 0.1034 - val_accuracy: 0.9551\n",
      "Epoch 10/10\n",
      "62/62 [==============================] - 0s 833us/step - loss: 0.0897 - accuracy: 0.9755 - val_loss: 0.0911 - val_accuracy: 0.9755\n"
     ]
    },
    {
     "data": {
      "text/plain": [
       "<keras.callbacks.History at 0x15c1b64f0>"
      ]
     },
     "execution_count": 9,
     "metadata": {},
     "output_type": "execute_result"
    }
   ],
   "source": [
    "# Train the model\n",
    "model.fit(X_train, y_train, epochs=10, batch_size=32, validation_data=(X_test, y_test))"
   ]
  },
  {
   "cell_type": "code",
   "execution_count": 10,
   "id": "1a03b0d6-431b-47b2-9d09-5c18fc39e364",
   "metadata": {},
   "outputs": [
    {
     "name": "stdout",
     "output_type": "stream",
     "text": [
      "16/16 [==============================] - 0s 597us/step - loss: 0.0911 - accuracy: 0.9755\n",
      "Test Loss: 0.09113126248121262, Test Accuracy: 0.9755101799964905\n"
     ]
    }
   ],
   "source": [
    "# Evaluate the model\n",
    "loss, accuracy = model.evaluate(X_test, y_test)\n",
    "print(f'Test Loss: {loss}, Test Accuracy: {accuracy}')\n"
   ]
  },
  {
   "cell_type": "code",
   "execution_count": 11,
   "id": "10eb5880-a39b-488e-90ae-ff7acdfc77da",
   "metadata": {},
   "outputs": [
    {
     "name": "stdout",
     "output_type": "stream",
     "text": [
      "16/16 [==============================] - 0s 472us/step\n"
     ]
    }
   ],
   "source": [
    "# Make predictions\n",
    "predictions = model.predict(X_test)"
   ]
  },
  {
   "cell_type": "code",
   "execution_count": 12,
   "id": "d7fe87e5-6312-4294-a3f2-129c5b236988",
   "metadata": {},
   "outputs": [],
   "source": [
    "# Decode predictions to get string labels\n",
    "decoded_predictions = label_encoder.inverse_transform(np.argmax(predictions, axis=1))"
   ]
  },
  {
   "cell_type": "code",
   "execution_count": 13,
   "id": "fca0736f-e91e-47ac-8b58-c41e5c81aff4",
   "metadata": {},
   "outputs": [
    {
     "data": {
      "text/plain": [
       "array([[2.5838322e-04, 8.2434428e-01, 1.7539737e-01],\n",
       "       [7.6292397e-04, 7.9121158e-02, 9.2011595e-01],\n",
       "       [5.7684552e-02, 2.7866964e-12, 9.4231546e-01],\n",
       "       ...,\n",
       "       [7.9622343e-03, 1.1335885e-06, 9.9203658e-01],\n",
       "       [2.5944244e-02, 7.4939182e-15, 9.7405577e-01],\n",
       "       [9.1998354e-03, 3.6313924e-07, 9.9079984e-01]], dtype=float32)"
      ]
     },
     "execution_count": 13,
     "metadata": {},
     "output_type": "execute_result"
    }
   ],
   "source": [
    "predictions"
   ]
  },
  {
   "cell_type": "code",
   "execution_count": 14,
   "id": "84db7685-f5ca-4d09-a9fd-b9f92de4d4ba",
   "metadata": {},
   "outputs": [
    {
     "data": {
      "text/plain": [
       "array(['Stationary', 'Walking', 'Walking', 'Stationary', 'Walking',\n",
       "       'Stationary', 'Walking', 'Walking', 'Walking', 'Stationary',\n",
       "       'Falling', 'Walking', 'Walking', 'Stationary', 'Walking',\n",
       "       'Stationary', 'Stationary', 'Walking', 'Walking', 'Walking',\n",
       "       'Walking', 'Stationary', 'Stationary', 'Stationary', 'Walking',\n",
       "       'Walking', 'Stationary', 'Walking', 'Stationary', 'Stationary',\n",
       "       'Falling', 'Stationary', 'Walking', 'Walking', 'Walking',\n",
       "       'Walking', 'Stationary', 'Stationary', 'Stationary', 'Walking',\n",
       "       'Walking', 'Stationary', 'Walking', 'Walking', 'Stationary',\n",
       "       'Walking', 'Walking', 'Walking', 'Walking', 'Walking', 'Walking',\n",
       "       'Stationary', 'Walking', 'Stationary', 'Stationary', 'Stationary',\n",
       "       'Stationary', 'Stationary', 'Walking', 'Stationary', 'Walking',\n",
       "       'Falling', 'Walking', 'Walking', 'Walking', 'Stationary',\n",
       "       'Walking', 'Walking', 'Walking', 'Walking', 'Stationary',\n",
       "       'Stationary', 'Stationary', 'Walking', 'Stationary', 'Walking',\n",
       "       'Walking', 'Walking', 'Walking', 'Stationary', 'Walking',\n",
       "       'Falling', 'Walking', 'Walking', 'Falling', 'Walking', 'Walking',\n",
       "       'Walking', 'Stationary', 'Walking', 'Walking', 'Walking',\n",
       "       'Walking', 'Walking', 'Stationary', 'Walking', 'Stationary',\n",
       "       'Walking', 'Stationary', 'Walking', 'Walking', 'Walking',\n",
       "       'Walking', 'Walking', 'Walking', 'Stationary', 'Walking',\n",
       "       'Walking', 'Walking', 'Stationary', 'Walking', 'Walking',\n",
       "       'Stationary', 'Walking', 'Stationary', 'Walking', 'Walking',\n",
       "       'Walking', 'Walking', 'Walking', 'Falling', 'Stationary',\n",
       "       'Walking', 'Walking', 'Stationary', 'Walking', 'Walking',\n",
       "       'Stationary', 'Walking', 'Walking', 'Stationary', 'Stationary',\n",
       "       'Walking', 'Walking', 'Stationary', 'Stationary', 'Falling',\n",
       "       'Walking', 'Walking', 'Walking', 'Walking', 'Walking', 'Walking',\n",
       "       'Walking', 'Stationary', 'Walking', 'Walking', 'Walking',\n",
       "       'Walking', 'Walking', 'Stationary', 'Walking', 'Walking',\n",
       "       'Walking', 'Walking', 'Walking', 'Walking', 'Stationary',\n",
       "       'Walking', 'Stationary', 'Walking', 'Walking', 'Walking',\n",
       "       'Walking', 'Walking', 'Walking', 'Walking', 'Walking',\n",
       "       'Stationary', 'Walking', 'Stationary', 'Walking', 'Walking',\n",
       "       'Walking', 'Walking', 'Walking', 'Walking', 'Walking', 'Walking',\n",
       "       'Walking', 'Walking', 'Walking', 'Walking', 'Walking', 'Walking',\n",
       "       'Stationary', 'Stationary', 'Stationary', 'Walking', 'Walking',\n",
       "       'Walking', 'Walking', 'Stationary', 'Walking', 'Stationary',\n",
       "       'Walking', 'Walking', 'Walking', 'Walking', 'Stationary',\n",
       "       'Stationary', 'Walking', 'Walking', 'Walking', 'Walking',\n",
       "       'Walking', 'Walking', 'Falling', 'Walking', 'Walking', 'Walking',\n",
       "       'Stationary', 'Walking', 'Walking', 'Stationary', 'Walking',\n",
       "       'Walking', 'Walking', 'Stationary', 'Walking', 'Stationary',\n",
       "       'Stationary', 'Walking', 'Stationary', 'Walking', 'Walking',\n",
       "       'Falling', 'Walking', 'Walking', 'Walking', 'Walking', 'Falling',\n",
       "       'Stationary', 'Stationary', 'Stationary', 'Walking', 'Walking',\n",
       "       'Walking', 'Walking', 'Walking', 'Walking', 'Walking', 'Walking',\n",
       "       'Stationary', 'Stationary', 'Stationary', 'Stationary', 'Walking',\n",
       "       'Walking', 'Walking', 'Walking', 'Walking', 'Walking', 'Falling',\n",
       "       'Stationary', 'Stationary', 'Walking', 'Walking', 'Walking',\n",
       "       'Walking', 'Walking', 'Walking', 'Stationary', 'Walking',\n",
       "       'Walking', 'Walking', 'Stationary', 'Stationary', 'Stationary',\n",
       "       'Stationary', 'Walking', 'Stationary', 'Walking', 'Walking',\n",
       "       'Walking', 'Walking', 'Stationary', 'Walking', 'Walking',\n",
       "       'Walking', 'Walking', 'Stationary', 'Stationary', 'Stationary',\n",
       "       'Walking', 'Walking', 'Walking', 'Walking', 'Walking', 'Walking',\n",
       "       'Walking', 'Walking', 'Falling', 'Walking', 'Walking',\n",
       "       'Stationary', 'Walking', 'Walking', 'Walking', 'Walking',\n",
       "       'Walking', 'Walking', 'Walking', 'Stationary', 'Walking',\n",
       "       'Stationary', 'Walking', 'Stationary', 'Walking', 'Walking',\n",
       "       'Stationary', 'Walking', 'Walking', 'Walking', 'Stationary',\n",
       "       'Stationary', 'Walking', 'Walking', 'Stationary', 'Walking',\n",
       "       'Walking', 'Stationary', 'Walking', 'Stationary', 'Walking',\n",
       "       'Walking', 'Walking', 'Walking', 'Stationary', 'Walking',\n",
       "       'Walking', 'Walking', 'Walking', 'Walking', 'Stationary',\n",
       "       'Stationary', 'Stationary', 'Walking', 'Falling', 'Walking',\n",
       "       'Stationary', 'Walking', 'Walking', 'Stationary', 'Walking',\n",
       "       'Stationary', 'Falling', 'Walking', 'Walking', 'Walking',\n",
       "       'Stationary', 'Stationary', 'Walking', 'Walking', 'Stationary',\n",
       "       'Falling', 'Stationary', 'Walking', 'Stationary', 'Stationary',\n",
       "       'Stationary', 'Stationary', 'Stationary', 'Walking', 'Walking',\n",
       "       'Stationary', 'Stationary', 'Walking', 'Walking', 'Stationary',\n",
       "       'Stationary', 'Walking', 'Stationary', 'Stationary', 'Falling',\n",
       "       'Stationary', 'Walking', 'Walking', 'Stationary', 'Stationary',\n",
       "       'Walking', 'Falling', 'Walking', 'Walking', 'Walking',\n",
       "       'Stationary', 'Walking', 'Walking', 'Walking', 'Walking',\n",
       "       'Walking', 'Walking', 'Walking', 'Walking', 'Falling', 'Walking',\n",
       "       'Stationary', 'Walking', 'Stationary', 'Walking', 'Walking',\n",
       "       'Stationary', 'Walking', 'Walking', 'Walking', 'Walking',\n",
       "       'Walking', 'Falling', 'Walking', 'Stationary', 'Walking',\n",
       "       'Stationary', 'Walking', 'Walking', 'Walking', 'Stationary',\n",
       "       'Walking', 'Stationary', 'Walking', 'Falling', 'Walking',\n",
       "       'Walking', 'Walking', 'Walking', 'Stationary', 'Walking',\n",
       "       'Walking', 'Stationary', 'Stationary', 'Walking', 'Walking',\n",
       "       'Stationary', 'Stationary', 'Walking', 'Falling', 'Walking',\n",
       "       'Stationary', 'Walking', 'Stationary', 'Walking', 'Walking',\n",
       "       'Stationary', 'Walking', 'Walking', 'Walking', 'Walking',\n",
       "       'Stationary', 'Walking', 'Stationary', 'Stationary', 'Walking',\n",
       "       'Walking', 'Walking', 'Stationary', 'Walking', 'Walking',\n",
       "       'Stationary', 'Walking', 'Walking', 'Walking', 'Walking',\n",
       "       'Walking', 'Stationary', 'Walking', 'Stationary', 'Walking',\n",
       "       'Stationary', 'Walking', 'Walking', 'Stationary', 'Stationary',\n",
       "       'Stationary', 'Stationary', 'Stationary', 'Stationary', 'Walking',\n",
       "       'Walking', 'Walking', 'Walking', 'Walking', 'Walking', 'Walking',\n",
       "       'Walking', 'Walking', 'Walking', 'Walking', 'Stationary',\n",
       "       'Walking', 'Walking', 'Walking'], dtype=object)"
      ]
     },
     "execution_count": 14,
     "metadata": {},
     "output_type": "execute_result"
    }
   ],
   "source": [
    "decoded_predictions"
   ]
  },
  {
   "cell_type": "code",
   "execution_count": null,
   "id": "6221789b-8657-482f-a928-fd9c4418235f",
   "metadata": {},
   "outputs": [],
   "source": []
  }
 ],
 "metadata": {
  "kernelspec": {
   "display_name": "Python 3 (ipykernel)",
   "language": "python",
   "name": "python3"
  },
  "language_info": {
   "codemirror_mode": {
    "name": "ipython",
    "version": 3
   },
   "file_extension": ".py",
   "mimetype": "text/x-python",
   "name": "python",
   "nbconvert_exporter": "python",
   "pygments_lexer": "ipython3",
   "version": "3.8.18"
  }
 },
 "nbformat": 4,
 "nbformat_minor": 5
}
