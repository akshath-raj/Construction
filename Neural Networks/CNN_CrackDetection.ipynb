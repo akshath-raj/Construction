{
 "cells": [
  {
   "cell_type": "code",
   "execution_count": 1,
   "id": "25f40dda-cb72-4f90-8d08-8e647d78deb7",
   "metadata": {},
   "outputs": [],
   "source": [
    "# Importing neccessary libraries\n",
    "import tensorflow as tf\n",
    "from tensorflow.keras import layers, models\n",
    "from tensorflow.keras.preprocessing.image import ImageDataGenerator\n",
    "from sklearn.model_selection import train_test_split\n",
    "import matplotlib.pyplot as plt\n",
    "import os\n",
    "from PIL import Image\n",
    "import numpy as np\n",
    "from tensorflow.keras.preprocessing.image import ImageDataGenerator\n",
    "from tensorflow.keras.models import Sequential\n",
    "from tensorflow.keras.layers import Conv2D, MaxPooling2D, Flatten, Dense"
   ]
  },
  {
   "cell_type": "code",
   "execution_count": 2,
   "id": "de08812a-9e3a-4ab1-b690-4fb61812e940",
   "metadata": {},
   "outputs": [],
   "source": [
    "# Set the paths to your dataset folders\n",
    "crack_folder = \"/Users/akshathr/Desktop/Machine Learning/r_pos\"\n",
    "no_crack_folder = \"/Users/akshathr/Desktop/Machine Learning/r_neg\""
   ]
  },
  {
   "cell_type": "code",
   "execution_count": 3,
   "id": "dc51fdd0-13ee-4214-b263-823348a9b94f",
   "metadata": {},
   "outputs": [],
   "source": [
    "# Function to load images from a folder into a NumPy array\n",
    "def load_images_from_folder(folder):\n",
    "    images = []\n",
    "    for filename in os.listdir(folder):\n",
    "        img_path = os.path.join(folder, filename)\n",
    "        img = plt.imread(img_path) # Images are RGB and have the size (width, height)\n",
    "        images.append(img)\n",
    "    return np.array(images)"
   ]
  },
  {
   "cell_type": "code",
   "execution_count": 4,
   "id": "6ceae4b8-24ca-48c4-8afe-d7c63971d67b",
   "metadata": {},
   "outputs": [],
   "source": [
    "# Load images from the two folders\n",
    "crack_images = load_images_from_folder(crack_folder)\n",
    "no_crack_images = load_images_from_folder(no_crack_folder)\n",
    "\n",
    "# Create labels (1 for cracks, 0 for no cracks)\n",
    "crack_labels = np.ones(len(crack_images))\n",
    "no_crack_labels = np.zeros(len(no_crack_images))\n",
    "\n",
    "# Concatenate the images and labels\n",
    "X = np.concatenate([crack_images, no_crack_images])\n",
    "y = np.concatenate([crack_labels, no_crack_labels])\n",
    "\n",
    "# Shuffle the data\n",
    "shuffle_indices = np.arange(X.shape[0])\n",
    "np.random.shuffle(shuffle_indices)\n",
    "X = X[shuffle_indices]\n",
    "y = y[shuffle_indices]\n",
    "\n",
    "# Split the data into training and testing sets\n",
    "split_ratio = 0.8\n",
    "split_index = int(X.shape[0] * split_ratio)\n",
    "X_train, X_test = X[:split_index], X[split_index:]\n",
    "y_train, y_test = y[:split_index], y[split_index:]\n"
   ]
  },
  {
   "cell_type": "code",
   "execution_count": 5,
   "id": "1c4b4712-0c81-4043-8b4e-491b1767abfd",
   "metadata": {},
   "outputs": [],
   "source": [
    "# Build the CNN model\n",
    "model = Sequential()\n",
    "model.add(Conv2D(32, (3, 3), activation='relu', input_shape=(227, 227, 3)))\n",
    "model.add(MaxPooling2D((2, 2)))\n",
    "model.add(Conv2D(64, (3, 3), activation='relu'))\n",
    "model.add(MaxPooling2D((2, 2)))\n",
    "model.add(Conv2D(128, (3, 3), activation='relu'))\n",
    "model.add(MaxPooling2D((2, 2)))\n",
    "model.add(Flatten())\n",
    "model.add(Dense(128, activation='relu'))\n",
    "model.add(Dense(1, activation='sigmoid'))"
   ]
  },
  {
   "cell_type": "code",
   "execution_count": 6,
   "id": "99bbd93c-8ae5-4c0b-a0f8-9459571716cb",
   "metadata": {},
   "outputs": [],
   "source": [
    "# Compile the model\n",
    "model.compile(optimizer='adam', loss='binary_crossentropy', metrics=['accuracy'])"
   ]
  },
  {
   "cell_type": "code",
   "execution_count": 7,
   "id": "d5abac3f-9bb6-46b8-b8a3-b4736d085f60",
   "metadata": {},
   "outputs": [
    {
     "name": "stdout",
     "output_type": "stream",
     "text": [
      "Epoch 1/3\n"
     ]
    },
    {
     "name": "stderr",
     "output_type": "stream",
     "text": [
      "2024-03-04 19:39:57.400078: W tensorflow/tsl/platform/profile_utils/cpu_utils.cc:128] Failed to get CPU frequency: 0 Hz\n"
     ]
    },
    {
     "name": "stdout",
     "output_type": "stream",
     "text": [
      "43/43 [==============================] - 49s 1s/step - loss: 98.6779 - accuracy: 0.6300 - val_loss: 0.7956 - val_accuracy: 0.6884\n",
      "Epoch 2/3\n",
      "43/43 [==============================] - 58s 1s/step - loss: 0.2228 - accuracy: 0.9235 - val_loss: 0.1101 - val_accuracy: 0.9585\n",
      "Epoch 3/3\n",
      "43/43 [==============================] - 50s 1s/step - loss: 0.0605 - accuracy: 0.9785 - val_loss: 0.0604 - val_accuracy: 0.9822\n"
     ]
    },
    {
     "data": {
      "text/plain": [
       "<keras.callbacks.History at 0x179990e50>"
      ]
     },
     "execution_count": 7,
     "metadata": {},
     "output_type": "execute_result"
    }
   ],
   "source": [
    "# Train the model\n",
    "model.fit(X_train, y_train, epochs=3, batch_size=32, validation_split=0.2)"
   ]
  },
  {
   "cell_type": "code",
   "execution_count": 8,
   "id": "0ce7468c-ffad-42a7-bcb8-9db60a8bade1",
   "metadata": {},
   "outputs": [
    {
     "name": "stdout",
     "output_type": "stream",
     "text": [
      "14/14 [==============================] - 4s 296ms/step - loss: 0.0336 - accuracy: 0.9905\n",
      "Test Loss: 0.03362801671028137, Test Accuracy: 0.9904988408088684\n"
     ]
    }
   ],
   "source": [
    "# Evaluate the model on the test set\n",
    "loss, accuracy = model.evaluate(X_test, y_test)\n",
    "print(f\"Test Loss: {loss}, Test Accuracy: {accuracy}\")"
   ]
  },
  {
   "cell_type": "code",
   "execution_count": null,
   "id": "d705532d-57bd-4730-b07e-a5f948a32783",
   "metadata": {},
   "outputs": [],
   "source": []
  }
 ],
 "metadata": {
  "kernelspec": {
   "display_name": "Python 3 (ipykernel)",
   "language": "python",
   "name": "python3"
  },
  "language_info": {
   "codemirror_mode": {
    "name": "ipython",
    "version": 3
   },
   "file_extension": ".py",
   "mimetype": "text/x-python",
   "name": "python",
   "nbconvert_exporter": "python",
   "pygments_lexer": "ipython3",
   "version": "3.8.18"
  }
 },
 "nbformat": 4,
 "nbformat_minor": 5
}
