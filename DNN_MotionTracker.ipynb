{
 "cells": [
  {
   "cell_type": "code",
   "execution_count": null,
   "id": "b33eeaea-a46b-4a4d-8c6f-f53858783202",
   "metadata": {},
   "outputs": [],
   "source": [
    "# Importing neccessary libraries\n",
    "import numpy as np\n",
    "import pandas as pd\n",
    "from sklearn.model_selection import train_test_split\n",
    "from sklearn.preprocessing import LabelEncoder\n",
    "from tensorflow.keras.models import Sequential\n",
    "from tensorflow.keras.layers import Dense, Dropout\n",
    "from tensorflow.keras.utils import to_categorical \n",
    "from tensorflow import keras"
   ]
  },
  {
   "cell_type": "code",
   "execution_count": null,
   "id": "ee8f9983-af89-4b7e-9550-898645adf9ce",
   "metadata": {},
   "outputs": [],
   "source": [
    "# Reading CSV file\n",
    "df=pd.read_csv(\"OriginalsData.csv\") # Self-crafted data using Sensor Logger app.\n",
    "df"
   ]
  },
  {
   "cell_type": "code",
   "execution_count": null,
   "id": "7338e11c-1f8f-4f7f-8417-cc66594e6480",
   "metadata": {},
   "outputs": [],
   "source": [
    "# Defining x and y for training data\n",
    "X=df[[\"x\",\"y\",\"z\"]]\n",
    "y=df[\"Status\"]"
   ]
  },
  {
   "cell_type": "code",
   "execution_count": null,
   "id": "c1e09717-b99e-4dd0-a746-9a0ed264b830",
   "metadata": {},
   "outputs": [],
   "source": [
    "# X values\n",
    "X"
   ]
  },
  {
   "cell_type": "code",
   "execution_count": null,
   "id": "49b8fa38-77bc-4eed-8658-b4a1a6f94c58",
   "metadata": {},
   "outputs": [],
   "source": [
    "# y values\n",
    "y"
   ]
  },
  {
   "cell_type": "code",
   "execution_count": null,
   "id": "93dd1a8a-8fed-4c25-b533-c2414aa0d9f7",
   "metadata": {},
   "outputs": [],
   "source": [
    "# Encode categorical labels\n",
    "label_encoder = LabelEncoder()\n",
    "y_encoded = label_encoder.fit_transform(y)\n",
    "\n",
    "# Split the data into training and testing sets\n",
    "X_train, X_test, y_train, y_test = train_test_split(X, y_encoded, test_size=0.2, random_state=42)"
   ]
  },
  {
   "cell_type": "code",
   "execution_count": null,
   "id": "91c3ae46-d197-45bb-85d5-940a0a491e2f",
   "metadata": {},
   "outputs": [],
   "source": [
    "# Build the neural network model\n",
    "model = Sequential()\n",
    "model.add(Dense(64, input_dim=3, activation='relu'))\n",
    "model.add(Dense(32, activation='relu'))\n",
    "model.add(Dense(3, activation='softmax'))  # Assuming 3 classes in the output"
   ]
  },
  {
   "cell_type": "code",
   "execution_count": null,
   "id": "74397218-6bae-43d4-a917-48a5a2785534",
   "metadata": {},
   "outputs": [],
   "source": [
    "# Compile the model\n",
    "model.compile(loss='sparse_categorical_crossentropy', optimizer='adam', metrics=['accuracy'])"
   ]
  },
  {
   "cell_type": "code",
   "execution_count": null,
   "id": "de0e8b63-f2df-49db-95b8-b30e530be44d",
   "metadata": {},
   "outputs": [],
   "source": [
    "# Train the model\n",
    "model.fit(X_train, y_train, epochs=10, batch_size=32, validation_data=(X_test, y_test))"
   ]
  },
  {
   "cell_type": "code",
   "execution_count": null,
   "id": "1a03b0d6-431b-47b2-9d09-5c18fc39e364",
   "metadata": {},
   "outputs": [],
   "source": [
    "# Evaluate the model\n",
    "loss, accuracy = model.evaluate(X_test, y_test)\n",
    "print(f'Test Loss: {loss}, Test Accuracy: {accuracy}')\n"
   ]
  },
  {
   "cell_type": "code",
   "execution_count": null,
   "id": "10eb5880-a39b-488e-90ae-ff7acdfc77da",
   "metadata": {},
   "outputs": [],
   "source": [
    "# Make predictions\n",
    "predictions = model.predict(X_test)"
   ]
  },
  {
   "cell_type": "code",
   "execution_count": null,
   "id": "d7fe87e5-6312-4294-a3f2-129c5b236988",
   "metadata": {},
   "outputs": [],
   "source": [
    "# Decode predictions to get string labels\n",
    "decoded_predictions = label_encoder.inverse_transform(np.argmax(predictions, axis=1))"
   ]
  },
  {
   "cell_type": "code",
   "execution_count": null,
   "id": "fca0736f-e91e-47ac-8b58-c41e5c81aff4",
   "metadata": {},
   "outputs": [],
   "source": [
    "predictions"
   ]
  },
  {
   "cell_type": "code",
   "execution_count": null,
   "id": "84db7685-f5ca-4d09-a9fd-b9f92de4d4ba",
   "metadata": {},
   "outputs": [],
   "source": [
    "decoded_predictions"
   ]
  },
  {
   "cell_type": "code",
   "execution_count": null,
   "id": "6221789b-8657-482f-a928-fd9c4418235f",
   "metadata": {},
   "outputs": [],
   "source": []
  }
 ],
 "metadata": {
  "kernelspec": {
   "display_name": "Python 3 (ipykernel)",
   "language": "python",
   "name": "python3"
  },
  "language_info": {
   "codemirror_mode": {
    "name": "ipython",
    "version": 3
   },
   "file_extension": ".py",
   "mimetype": "text/x-python",
   "name": "python",
   "nbconvert_exporter": "python",
   "pygments_lexer": "ipython3",
   "version": "3.8.18"
  }
 },
 "nbformat": 4,
 "nbformat_minor": 5
}
